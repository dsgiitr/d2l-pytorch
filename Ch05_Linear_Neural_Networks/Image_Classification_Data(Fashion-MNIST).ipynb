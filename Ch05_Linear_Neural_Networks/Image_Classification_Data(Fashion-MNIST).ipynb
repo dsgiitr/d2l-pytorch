{
  "nbformat": 4,
  "nbformat_minor": 0,
  "metadata": {
    "kernelspec": {
      "name": "python3",
      "display_name": "Python 3"
    },
    "colab": {
      "name": "Image_Classification_Data(Fashion-MNIST).ipynb",
      "provenance": []
    },
    "language_info": {
      "name": "python"
    }
  },
  "cells": [
    {
      "cell_type": "markdown",
      "metadata": {
        "id": "m8nl8kOUe-wB"
      },
      "source": [
        "# Image Classification Data (Fashion-MNIST)\n",
        "\n",
        "Before we implement softmax regression ourselves, let's pick a real dataset to work with. To make things visually compelling, we will pick an image classification dataset. The most commonly used image classification data set is the [MNIST](http://yann.lecun.com/exdb/mnist/) handwritten digit recognition data set, proposed by LeCun, Cortes and Burges in the 1990s. However, even simple models achieve classification accuracy over 95% on MNIST, so it is hard to spot the differences between better models and weaker ones. In order to get a better intuition, we will use the qualitatively similar, but comparatively complex [Fashion-MNIST](https://github.com/zalandoresearch/fashion-mnist) dataset, proposed by [Xiao, Rasul and Vollgraf](https://arxiv.org/abs/1708.07747) in 2017."
      ]
    },
    {
      "cell_type": "markdown",
      "metadata": {
        "id": "I0Q4Ew9ne-wD"
      },
      "source": [
        "## Getting the Data\n",
        "\n",
        "First, import the packages or modules required in this section.\n",
        "\n"
      ]
    },
    {
      "cell_type": "code",
      "metadata": {
        "id": "Yrc5aq4b-oCg"
      },
      "source": [
        "!pip install d2l"
      ],
      "execution_count": 1,
      "outputs": []
    },
    {
      "cell_type": "code",
      "metadata": {
        "id": "uHnsGsXae-wE"
      },
      "source": [
        "%matplotlib inline\n",
        "import sys\n",
        "sys.path.insert(0, '..')\n",
        "import d2l\n",
        "from IPython import display\n",
        "from matplotlib import pyplot as plt\n",
        "import torch\n",
        "import torchvision\n",
        "from torchvision import transforms\n",
        "from torch.utils.data import DataLoader\n",
        "\n",
        "import time"
      ],
      "execution_count": 2,
      "outputs": []
    },
    {
      "cell_type": "markdown",
      "metadata": {
        "id": "R8H2S-RSe-wF"
      },
      "source": [
        "Conveniently, PyTorch's `torchvision.datasets` package provides easy access to a number of benchmark vision datasets for testing our models.\n",
        "The first time we invoke `data.vision.FashionMNIST(train=True)`\n",
        "to collect the training data,\n",
        "PyTorch will automatically retrieve the dataset via our Internet connection.\n",
        "Subsequently, PyTorch will use the already-downloaded local copy.\n",
        "We specify whether we are requesting the training set or the test set\n",
        "by setting the value of the parameter `train` to `True` or `False`, respectively.\n",
        "Recall that we will only be using the training data for training,\n",
        "holding out the test set for a final evaluation of our model."
      ]
    },
    {
      "cell_type": "code",
      "metadata": {
        "id": "DIP-pcvJe-wF"
      },
      "source": [
        "# By default pytorch torchvision datasets are of type PIL.\n",
        "# Define a transform \"trans\" to change the PIL to Tensor format.\n",
        "trans = transforms.ToTensor() "
      ],
      "execution_count": 3,
      "outputs": []
    },
    {
      "cell_type": "markdown",
      "metadata": {
        "id": "McDcTejYe-wG"
      },
      "source": [
        "The `ToTensor` Transform also moves the image channel from the last dimension to the first dimension to facilitate the convolutional neural network calculations introduced later."
      ]
    },
    {
      "cell_type": "code",
      "metadata": {
        "id": "Zz0pkE_Pe-wG"
      },
      "source": [
        "mnist_train = torchvision.datasets.FashionMNIST(root=\"./\", train=True, transform=trans, target_transform=None, download=True)\n",
        "mnist_test = torchvision.datasets.FashionMNIST(root=\"./\", train=False, transform=trans, target_transform=None, download=True)"
      ],
      "execution_count": null,
      "outputs": []
    },
    {
      "cell_type": "markdown",
      "metadata": {
        "id": "bsOEIIzfe-wH"
      },
      "source": [
        "The number of images for each category in the training set and the testing set is 6,000 and 1,000, respectively. Since there are 10 categories, the numbers of examples in the training set and the test set are 60,000 and 10,000, respectively."
      ]
    },
    {
      "cell_type": "code",
      "metadata": {
        "id": "JBOUknvye-wH",
        "outputId": "bbd26b10-fb4d-49e8-de77-49880688f980",
        "colab": {
          "base_uri": "https://localhost:8080/"
        }
      },
      "source": [
        "len(mnist_train), len(mnist_test)"
      ],
      "execution_count": 5,
      "outputs": [
        {
          "output_type": "execute_result",
          "data": {
            "text/plain": [
              "(60000, 10000)"
            ]
          },
          "metadata": {},
          "execution_count": 5
        }
      ]
    },
    {
      "cell_type": "markdown",
      "metadata": {
        "id": "fAnZ1O1be-wI"
      },
      "source": [
        "We can access any example by indexing into the dataset using square brackets `[]`. In the following code, we access the image and label corresponding to the first example."
      ]
    },
    {
      "cell_type": "code",
      "metadata": {
        "id": "rT37CGmQe-wI"
      },
      "source": [
        "feature, label = mnist_train[0]"
      ],
      "execution_count": 6,
      "outputs": []
    },
    {
      "cell_type": "markdown",
      "metadata": {
        "id": "u5_KbsUBe-wI"
      },
      "source": [
        "Our example, stored here in the variable `feature` corresponds to an image with a height and width of 28 pixels. PyTorch automatically scales it into a tensor with each pixel value between 0 and 1. It is stored in a 3D Tensor. Its first dimension is the number of channels. Since the data set is a grayscale image, the number of channels is 1. When we encounter color, images, we'll have 3 channels for red, green, and blue. To keep things simple, we will record the shape of the image with the height and width of $h$ and $w$ pixels, respectively, as $h \\times w$ or `(h, w)`."
      ]
    },
    {
      "cell_type": "code",
      "metadata": {
        "id": "lMCbmWOEe-wJ",
        "outputId": "61ac3a1b-d9a2-497e-b45c-27b1a82b2225",
        "colab": {
          "base_uri": "https://localhost:8080/"
        }
      },
      "source": [
        "feature.shape, feature.dtype"
      ],
      "execution_count": 7,
      "outputs": [
        {
          "output_type": "execute_result",
          "data": {
            "text/plain": [
              "(torch.Size([1, 28, 28]), torch.float32)"
            ]
          },
          "metadata": {},
          "execution_count": 7
        }
      ]
    },
    {
      "cell_type": "markdown",
      "metadata": {
        "id": "SxC-gLi9e-wJ"
      },
      "source": [
        "The label of each image is represented as a scalar in PyTorch. Its type is a 64-bit integer."
      ]
    },
    {
      "cell_type": "code",
      "metadata": {
        "id": "wHWoYIVae-wJ",
        "outputId": "c3e1077e-3c26-4327-e590-0d400ea95f75",
        "colab": {
          "base_uri": "https://localhost:8080/"
        }
      },
      "source": [
        "label, type(label)"
      ],
      "execution_count": 8,
      "outputs": [
        {
          "output_type": "execute_result",
          "data": {
            "text/plain": [
              "(9, int)"
            ]
          },
          "metadata": {},
          "execution_count": 8
        }
      ]
    },
    {
      "cell_type": "markdown",
      "metadata": {
        "id": "hjXRqLE8e-wJ"
      },
      "source": [
        "There are 10 categories in Fashion-MNIST: t-shirt, trousers, pullover, dress, coat, sandal, shirt, sneaker, bag and ankle boot. The following function can convert a numeric label into a corresponding text label."
      ]
    },
    {
      "cell_type": "code",
      "metadata": {
        "id": "-QrG4ztYe-wK"
      },
      "source": [
        "# This function has been saved in the d2l package for future use\n",
        "def get_fashion_mnist_labels(labels):\n",
        "    text_labels = ['t-shirt', 'trouser', 'pullover', 'dress', 'coat',\n",
        "                   'sandal', 'shirt', 'sneaker', 'bag', 'ankle boot']\n",
        "    return [text_labels[int(i)] for i in labels]"
      ],
      "execution_count": 9,
      "outputs": []
    },
    {
      "cell_type": "markdown",
      "metadata": {
        "id": "xpRaSnLBe-wK"
      },
      "source": [
        "The following defines a function that can draw multiple images and corresponding labels in a single line."
      ]
    },
    {
      "cell_type": "code",
      "metadata": {
        "id": "OKRDNxOre-wK"
      },
      "source": [
        "# This function has been saved in the d2l package for future use\n",
        "def show_fashion_mnist(images, labels):\n",
        "    display.set_matplotlib_formats('svg')\n",
        "    # Here _ means that we ignore (not use) variables\n",
        "    _, figs = plt.subplots(1, len(images), figsize=(12, 12))\n",
        "    for f, img, lbl in zip(figs, images, labels):\n",
        "        f.imshow(img.reshape((28, 28)).numpy())\n",
        "        f.set_title(lbl)\n",
        "        f.axes.get_xaxis().set_visible(False)\n",
        "        f.axes.get_yaxis().set_visible(False)"
      ],
      "execution_count": 10,
      "outputs": []
    },
    {
      "cell_type": "markdown",
      "metadata": {
        "id": "V0r_8Zz0e-wK"
      },
      "source": [
        "Next, let's take a look at the image contents and text labels for the first nine examples in the training data set.\n",
        "\n",
        "Note: PyTorch DataLoader objects don't support regular array slicing. You can instead iterate through."
      ]
    },
    {
      "cell_type": "code",
      "metadata": {
        "id": "lcrs8wyPe-wK",
        "outputId": "e8f6574c-1704-4bd5-bb79-37ddf7391d54",
        "colab": {
          "base_uri": "https://localhost:8080/",
          "height": 142
        }
      },
      "source": [
        "X=[]\n",
        "y=[]\n",
        "for idx, data in enumerate(mnist_train):\n",
        "    if(idx>=0 and idx<10):\n",
        "        X.append(data[0])\n",
        "        y.append(data[1])\n",
        "    if (idx>=10):\n",
        "        break\n",
        "# X, y = mnist_train[0:9]\n",
        "show_fashion_mnist(X, get_fashion_mnist_labels(y))"
      ],
      "execution_count": 11,
      "outputs": [
        {
          "output_type": "display_data",
          "data": {
            "text/plain": [
              "<Figure size 864x864 with 10 Axes>"
            ],
            "image/svg+xml": "<?xml version=\"1.0\" encoding=\"utf-8\" standalone=\"no\"?>\n<!DOCTYPE svg PUBLIC \"-//W3C//DTD SVG 1.1//EN\"\n  \"http://www.w3.org/Graphics/SVG/1.1/DTD/svg11.dtd\">\n<!-- Created with matplotlib (https://matplotlib.org/) -->\n<svg height=\"89.763888pt\" version=\"1.1\" viewBox=\"0 0 687.5 89.763888\" width=\"687.5pt\" xmlns=\"http://www.w3.org/2000/svg\" xmlns:xlink=\"http://www.w3.org/1999/xlink\">\n <defs>\n  <style type=\"text/css\">\n*{stroke-linecap:butt;stroke-linejoin:round;}\n  </style>\n </defs>\n <g id=\"figure_1\">\n  <g id=\"patch_1\">\n   <path d=\"M 0 89.763888 \nL 687.5 89.763888 \nL 687.5 -0 \nL 0 -0 \nz\n\" style=\"fill:none;\"/>\n  </g>\n  <g id=\"axes_1\">\n   <g id=\"patch_2\">\n    <path d=\"M 10.7 79.063888 \nL 67.445763 79.063888 \nL 67.445763 22.318125 \nL 10.7 22.318125 \nz\n\" style=\"fill:#ffffff;\"/>\n   </g>\n   <g clip-path=\"url(#p6096eb5654)\">\n    <image height=\"57\" id=\"image6ac833880c\" transform=\"scale(1 -1)translate(0 -57)\" width=\"57\" x=\"10.7\" xlink:href=\"data:image/png;base64,\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\" y=\"-22.063888\"/>\n   </g>\n   <g id=\"patch_3\">\n    <path d=\"M 10.7 79.063888 \nL 10.7 22.318125 \n\" style=\"fill:none;stroke:#000000;stroke-linecap:square;stroke-linejoin:miter;stroke-width:0.8;\"/>\n   </g>\n   <g id=\"patch_4\">\n    <path d=\"M 67.445763 79.063888 \nL 67.445763 22.318125 \n\" style=\"fill:none;stroke:#000000;stroke-linecap:square;stroke-linejoin:miter;stroke-width:0.8;\"/>\n   </g>\n   <g id=\"patch_5\">\n    <path d=\"M 10.7 79.063888 \nL 67.445763 79.063888 \n\" style=\"fill:none;stroke:#000000;stroke-linecap:square;stroke-linejoin:miter;stroke-width:0.8;\"/>\n   </g>\n   <g id=\"patch_6\">\n    <path d=\"M 10.7 22.318125 \nL 67.445763 22.318125 \n\" style=\"fill:none;stroke:#000000;stroke-linecap:square;stroke-linejoin:miter;stroke-width:0.8;\"/>\n   </g>\n   <g id=\"text_1\">\n    <!-- ankle boot -->\n    <defs>\n     <path d=\"M 34.28125 27.484375 \nQ 23.390625 27.484375 19.1875 25 \nQ 14.984375 22.515625 14.984375 16.5 \nQ 14.984375 11.71875 18.140625 8.90625 \nQ 21.296875 6.109375 26.703125 6.109375 \nQ 34.1875 6.109375 38.703125 11.40625 \nQ 43.21875 16.703125 43.21875 25.484375 \nL 43.21875 27.484375 \nz\nM 52.203125 31.203125 \nL 52.203125 0 \nL 43.21875 0 \nL 43.21875 8.296875 \nQ 40.140625 3.328125 35.546875 0.953125 \nQ 30.953125 -1.421875 24.3125 -1.421875 \nQ 15.921875 -1.421875 10.953125 3.296875 \nQ 6 8.015625 6 15.921875 \nQ 6 25.140625 12.171875 29.828125 \nQ 18.359375 34.515625 30.609375 34.515625 \nL 43.21875 34.515625 \nL 43.21875 35.40625 \nQ 43.21875 41.609375 39.140625 45 \nQ 35.0625 48.390625 27.6875 48.390625 \nQ 23 48.390625 18.546875 47.265625 \nQ 14.109375 46.140625 10.015625 43.890625 \nL 10.015625 52.203125 \nQ 14.9375 54.109375 19.578125 55.046875 \nQ 24.21875 56 28.609375 56 \nQ 40.484375 56 46.34375 49.84375 \nQ 52.203125 43.703125 52.203125 31.203125 \nz\n\" id=\"DejaVuSans-97\"/>\n     <path d=\"M 54.890625 33.015625 \nL 54.890625 0 \nL 45.90625 0 \nL 45.90625 32.71875 \nQ 45.90625 40.484375 42.875 44.328125 \nQ 39.84375 48.1875 33.796875 48.1875 \nQ 26.515625 48.1875 22.3125 43.546875 \nQ 18.109375 38.921875 18.109375 30.90625 \nL 18.109375 0 \nL 9.078125 0 \nL 9.078125 54.6875 \nL 18.109375 54.6875 \nL 18.109375 46.1875 \nQ 21.34375 51.125 25.703125 53.5625 \nQ 30.078125 56 35.796875 56 \nQ 45.21875 56 50.046875 50.171875 \nQ 54.890625 44.34375 54.890625 33.015625 \nz\n\" id=\"DejaVuSans-110\"/>\n     <path d=\"M 9.078125 75.984375 \nL 18.109375 75.984375 \nL 18.109375 31.109375 \nL 44.921875 54.6875 \nL 56.390625 54.6875 \nL 27.390625 29.109375 \nL 57.625 0 \nL 45.90625 0 \nL 18.109375 26.703125 \nL 18.109375 0 \nL 9.078125 0 \nz\n\" id=\"DejaVuSans-107\"/>\n     <path d=\"M 9.421875 75.984375 \nL 18.40625 75.984375 \nL 18.40625 0 \nL 9.421875 0 \nz\n\" id=\"DejaVuSans-108\"/>\n     <path d=\"M 56.203125 29.59375 \nL 56.203125 25.203125 \nL 14.890625 25.203125 \nQ 15.484375 15.921875 20.484375 11.0625 \nQ 25.484375 6.203125 34.421875 6.203125 \nQ 39.59375 6.203125 44.453125 7.46875 \nQ 49.3125 8.734375 54.109375 11.28125 \nL 54.109375 2.78125 \nQ 49.265625 0.734375 44.1875 -0.34375 \nQ 39.109375 -1.421875 33.890625 -1.421875 \nQ 20.796875 -1.421875 13.15625 6.1875 \nQ 5.515625 13.8125 5.515625 26.8125 \nQ 5.515625 40.234375 12.765625 48.109375 \nQ 20.015625 56 32.328125 56 \nQ 43.359375 56 49.78125 48.890625 \nQ 56.203125 41.796875 56.203125 29.59375 \nz\nM 47.21875 32.234375 \nQ 47.125 39.59375 43.09375 43.984375 \nQ 39.0625 48.390625 32.421875 48.390625 \nQ 24.90625 48.390625 20.390625 44.140625 \nQ 15.875 39.890625 15.1875 32.171875 \nz\n\" id=\"DejaVuSans-101\"/>\n     <path id=\"DejaVuSans-32\"/>\n     <path d=\"M 48.6875 27.296875 \nQ 48.6875 37.203125 44.609375 42.84375 \nQ 40.53125 48.484375 33.40625 48.484375 \nQ 26.265625 48.484375 22.1875 42.84375 \nQ 18.109375 37.203125 18.109375 27.296875 \nQ 18.109375 17.390625 22.1875 11.75 \nQ 26.265625 6.109375 33.40625 6.109375 \nQ 40.53125 6.109375 44.609375 11.75 \nQ 48.6875 17.390625 48.6875 27.296875 \nz\nM 18.109375 46.390625 \nQ 20.953125 51.265625 25.265625 53.625 \nQ 29.59375 56 35.59375 56 \nQ 45.5625 56 51.78125 48.09375 \nQ 58.015625 40.1875 58.015625 27.296875 \nQ 58.015625 14.40625 51.78125 6.484375 \nQ 45.5625 -1.421875 35.59375 -1.421875 \nQ 29.59375 -1.421875 25.265625 0.953125 \nQ 20.953125 3.328125 18.109375 8.203125 \nL 18.109375 0 \nL 9.078125 0 \nL 9.078125 75.984375 \nL 18.109375 75.984375 \nz\n\" id=\"DejaVuSans-98\"/>\n     <path d=\"M 30.609375 48.390625 \nQ 23.390625 48.390625 19.1875 42.75 \nQ 14.984375 37.109375 14.984375 27.296875 \nQ 14.984375 17.484375 19.15625 11.84375 \nQ 23.34375 6.203125 30.609375 6.203125 \nQ 37.796875 6.203125 41.984375 11.859375 \nQ 46.1875 17.53125 46.1875 27.296875 \nQ 46.1875 37.015625 41.984375 42.703125 \nQ 37.796875 48.390625 30.609375 48.390625 \nz\nM 30.609375 56 \nQ 42.328125 56 49.015625 48.375 \nQ 55.71875 40.765625 55.71875 27.296875 \nQ 55.71875 13.875 49.015625 6.21875 \nQ 42.328125 -1.421875 30.609375 -1.421875 \nQ 18.84375 -1.421875 12.171875 6.21875 \nQ 5.515625 13.875 5.515625 27.296875 \nQ 5.515625 40.765625 12.171875 48.375 \nQ 18.84375 56 30.609375 56 \nz\n\" id=\"DejaVuSans-111\"/>\n     <path d=\"M 18.3125 70.21875 \nL 18.3125 54.6875 \nL 36.8125 54.6875 \nL 36.8125 47.703125 \nL 18.3125 47.703125 \nL 18.3125 18.015625 \nQ 18.3125 11.328125 20.140625 9.421875 \nQ 21.96875 7.515625 27.59375 7.515625 \nL 36.8125 7.515625 \nL 36.8125 0 \nL 27.59375 0 \nQ 17.1875 0 13.234375 3.875 \nQ 9.28125 7.765625 9.28125 18.015625 \nL 9.28125 47.703125 \nL 2.6875 47.703125 \nL 2.6875 54.6875 \nL 9.28125 54.6875 \nL 9.28125 70.21875 \nz\n\" id=\"DejaVuSans-116\"/>\n    </defs>\n    <g transform=\"translate(7.349756 16.318125)scale(0.12 -0.12)\">\n     <use xlink:href=\"#DejaVuSans-97\"/>\n     <use x=\"61.279297\" xlink:href=\"#DejaVuSans-110\"/>\n     <use x=\"124.658203\" xlink:href=\"#DejaVuSans-107\"/>\n     <use x=\"182.568359\" xlink:href=\"#DejaVuSans-108\"/>\n     <use x=\"210.351562\" xlink:href=\"#DejaVuSans-101\"/>\n     <use x=\"271.875\" xlink:href=\"#DejaVuSans-32\"/>\n     <use x=\"303.662109\" xlink:href=\"#DejaVuSans-98\"/>\n     <use x=\"367.138672\" xlink:href=\"#DejaVuSans-111\"/>\n     <use x=\"428.320312\" xlink:href=\"#DejaVuSans-111\"/>\n     <use x=\"489.501953\" xlink:href=\"#DejaVuSans-116\"/>\n    </g>\n   </g>\n  </g>\n  <g id=\"axes_2\">\n   <g id=\"patch_7\">\n    <path d=\"M 78.794915 79.063888 \nL 135.540678 79.063888 \nL 135.540678 22.318125 \nL 78.794915 22.318125 \nz\n\" style=\"fill:#ffffff;\"/>\n   </g>\n   <g clip-path=\"url(#pd56ba2904e)\">\n    <image height=\"57\" id=\"imagecf0a5fb175\" transform=\"scale(1 -1)translate(0 -57)\" width=\"57\" x=\"78.794915\" xlink:href=\"data:image/png;base64,\niVBORw0KGgoAAAANSUhEUgAAADkAAAA5CAYAAACMGIOFAAAABHNCSVQICAgIfAhkiAAAD7FJREFUaIHFm8mPHcd9xz+/qt5evzdvVq7iIlI2tUWWvCAKBCSBZRvwJcglf0IOzv8QBLnmEuSciw+5BHCWU+IkiANDsZ3EURIL1mKJFCnuFGeft3ZXV1UOvUy/meFwhqShH9CYmWZ3dX3rt3+rKN+WP/A8oUgY8eCPvsH2qwZCjyiPn2gkV6A9XrWGlvKSXFC5lPd89VM84gRc+RgexIFYcCEUqSfaUvSve3r3DdG//QJfFEeeZ/CkAAFQggtAYoeKLFo7jHh8oCFwiN4FKeJBwBmFNWr/WB5w0vwuVhAj+NDjO5bCBJiuwsYK5ID3D5GnAikiTE96rlx4wJX+Q05HOwxtTOYCTsfbLOkRWhwACocWTygFmv3GY7wm9xotHo3jQTHPtfEpYmVYDMe8PzjLf5+6SD7f4cKPArzJQepFOdwYn06TgNPQj6acjna4GK8xcjGZCzkfrbOkh2hKkKFYNJ5ELGEFfBakwniFEk+I40Swg8YTK8OCHjGwCe93z2Djzi64I8pTg9Q5rE56POzMkeqMsY3JfMC27aDwuNLLCMW2rgKLwvnS7CyC8wrjdfPMwCZsFimxKtgOOnw6XGH0sEt/C7C2/PhjNPjMQNbivGC8xniN9QrjdAVEcF6IVUGoLApPKBaHYCuQ9e/GazSOWBVkLmBiI5wXQokZFxGSKZQ5/tyeGmSRei7PrdMPpkCpMQCtSpO0XuEQQqkAqqIE2dIigHFBCVJcswhKHEp849fiQNzxk8FTRleFDzxz4bQBB6DFoergIg68QlFOVuPLSywWQUEJWBU4Vy1GBapeiEZ8dR13mk+Gbr+4yq/KQXdnUmuyNuNac/XP5v0WII1vxnBVLnVeSk1+ISBbc7V7V37Pfcf+qOhawB8rXmY1ecQo+9Q+6ZUnVfmM9tqi96QLTZkr8aUPHiSNubYiM3CwJkV+/XkSAVV9ua2pg0Dv1fRRNVgHoNon/RFTx+5cnpHM+F3lh+UH/D5tQgnQuGDGF9sL4xCMKzVdBiPf1LXHlWeWJxstVYAOMkSHNNpz1ULsfU6J2xdVmzLwCQPP04P0ZeSzLaOoNafFHRiMLK0o61VljrPart8LlCt9GNC5oMzxUT4Tc60B1uG+HPjgyTjfKuceFY1rU5fdutd5QeyTFQPPJIW0C4FaDkoXtdhWTp2ZzAG+W9e6AFKAareRcrS265nmyb1yoKlWmmwHp71SL4CuHDCqFlEVlSaPqc2nB6k8c3qKxuG8oMURVyvfznPtUq/Oj/X9OrAYF5C5EOM1zstMZDZOE0wgmH4R5qrKnq89+RqQPSA9tLuPttStVt2NQJUfq/cKp1C5f6LAc/To+qguXHbzGJQrPiXcD+IIiT8US+YDpq58P646luZTdeDxVVeiBH8E030mFU/d/UOlTUfTOzoE2rWrV00urWVv5VO4kiGo2ywlDl8V6I0/VoteAj18ik8NUsaaq5NTjYk5L1hRhNiZSudR6eIgsSgUlkSZpvd0XhD/RXQhzqEy4e50oeriFRZF4dQMKNdK/I8TWwFS4vf0lpUmf+0g9+YkpfACQWVSShwa1/jnXlC1Zuv6du8zTb1bvV8HnbrY8Hvd+ojU5DECz54BRaqrjIL6ADtq++PMPWiir6rMsQ0cSj+v04ttSGgOzcuPkqOD3OPdEoRIEuMDT1wFGSWeQLkmENkqyNQaabN3DpkJTA5p/i1WBUp8Q4y5WpPqAG0+W5CzmpIwQMIQrz2xKghURWDhCJWdyXdtoDV4LW4m2taa1OJ2CwCvZyKvF0AdH+XRfVJpJKjWRAS1uIA7uYikluVo2FQ8SkqmoB1ZH1WsHzyh8v1QLMZpjCu/GSiHjQUXyq7rPC53NGMeRUQQrUHryg8VfmGO/ESXKM1ZDEYo8RQVORwr0wBrg31UQdCuY7W45v3aXAFCbXEx2KgG6PGuvB7H9RwNpPd4a0vmeo/ZBoFjQY+blQcqytHNFAnHlZppqEWLw8ZgI9k1We+q61lxPM7usw4vEAUFS3qIEt/0k2qPD9aTPk5BAGVurDUcabsLspnAM94mkDhGggC1MI9PEzbeWGT0nOJi/x7G7w5Tm9jYRQxtTOyLJu+1NetaWmovkPGasY2ZurAs2p1m5GLSIGd6uiDaChCRY9UERwMpgkpTJO1gLpwgX4xY/Tp0nt/m5f6DVidfTnZsY4Y2ZlAkZKogFEeg7KHm2xQQTmHQZC7AeEXmAsYuYikas3Rui+HGchkbnhakhBHy8mWK+Q7jMzEmFbJFoUggX/DYruPii/d5deEBZ6JtBrZTbswoy4V4neejNbZsyo7rEFW9paLmfXa1ehATAGWTPHIxWzYlcyFjF9FROZcWNvjgSszd772Oyne7Ep1DMPF0H+QEWxl8eA2fZYeDVJ2Eh7+5yOic0PnaOleWV/mtheucDTc5HWzTl4wVbYhE+PfJGW7mK+XkVMEryV3ejA3WD3A4LB7nPQaP9R4tQogQiiKUqm9E4XAYX5bmWoSBy1m1wvViiXcGL9ELMt5avM63lz9i6fUhxgds2ZTtIuXT8Qk+3jrJrf87RfdOwpnPUuzjQBIGTJeF6cmC15dX+Y25e6QqbwaeSohlRCiu2VOsze0v7nyHjWmXWBdo5Ui0IVBtX5QZwsv5WRokUkXpfzZkaGL60ZTL6VpZBlKygjUdonGkOuNMso2ZVzy81GMkXYhm+9mDQQYBkzOOExc3+e7y+7wU3edTc5Itm7JR9LAIC3pMIoapD4mVIVGGoY356Edf5vR/5ox6miIRilQoEilLWAXKgDK+MrWSt1GFxytwgWAjKDpVW1XAx1ccl393DS2OzIWEYsm9xvgAiyIRw5eSz7kQr/NS93P+Jn0DSeIjgMwNvZuKNbXEzXMrXI4e7hbJUBXNihyNwpFIXm2XO8IhJHeH6JUU0wsIJ4ILhCIuAURDTzS0DVEshatAlgth+gGTJUU49iQblnw+ZKtIAVgMR2g8YxdjvSJzYZmuvGdoE66OT7Iz7HDGDh8P0g1HnHlnm/kbXd574zm+0b3epAk1U1cq+mpCogwb1qDEk6x73AcfE1+6iD7ZRwqHFA6zkGDmAjr3x+g7q02V4p2D+riKCPG5U9iwT+/OFPVf77PY/Tr3xvME3TKoAQxsp0lTdT6+my3w7v3zcD/ZHe9QTXqHXh8Q9yKUeBbUmC3VLcN7ld8sCushr+gOjSfVedMlbH/1FOuvaaQoo2AwLpm2nYt9XNAnHHjigcekgulJ+Z5A0YGi6/Eqof8fpRkvxmP6wbTx+3aSrHemMxcy3EjpbKl9Z3wOBOmLguLmbSIg0QWXgzHrdtIk+pIy3K1eagK4p6el74ni3u8V/Pxbf8628wxcyJ/c+n1++eEF3v7qh/zZc//M97e/wg9ufo1vn/2Y7y3/jBAIRXgv7/NP21/h77tvMv+DsiD/cvqQpaBsAizltkLI7mGLOTVhYkM6NyJ6tz3kswcLHl0MeA+FZXXS43qRYnzQ5Lo2fVju7zumPmRs44ajCu9G/OmDtxvz/uW1c/Q/CXhn/kv8ZbrKvzx4mdU7C/yDeZV100WLJxDL9eEKn66ukN7bZQPCqr+c+v0sYKwMp4NtYl0Qb0GyZcs6+0ggAYqCG6un+OHy61yKV+mqrAE4dhHWq4psKtguUlbzOZQFnOXCDyf8/JOvkc8LpguXf54R/fR/mXz8Gn/1jW/RWfWce+Bw4Ty/iN+gbi2Dief0tiW5v4mzFgQSKXBe2Cy6hGLp6fIQhpKyOXgj3uLHwZj5G4b0sx3ckTUJeOswGwnvblxg5dSABT0GZnkZi8wEpemSoK+8gEkDgszDdumPYj1qZRlVeDoPPfG2J5g4fAbBRPAavBJU7pHCYXsxwStXmJxQzV5I/d06LiTV/YHzrJsu4U6BDMf7+szDNZllzP8q4Gp2npd+5/MylexpgTIXYghwCB1t2HmpAE4RDj3BxNPZsITDAtMLmLx1nmDsWPwkB0C8L8li60ELLlC4UFF0NcNzEaOzKZMrGanKmPqIzAVN8ImVYSnYRuP4ID/JJ9snSW+tUdy6s78dPFyTlnjTk/cVA5Ngqn3+NsjyREfZ0SfKMHd6wI6fQ00UOheCYYCeBtgO2MSjp+XfJUrKfOkoNalLk3VhGWGLlZxTJ7crgKU/1oeiYgxaPDuuw/uTc9zf7PNCvnpg+3U4yNywcHVEOOlw65uLjBYihjZhYsOGsDLVXvGcnhIrwx+/8o8svzakK3ljTgB5dcxM1QxcZRH1Zk8olqQ622O8YuoDBq7Duu1xJ1+aWVjjNE4pNI5b2TJ//eHXCa6m+PzugTgON1fv0NsT4jRka9Jhw/ZQeDrazPR/9U/V8oXmNFV1JkdRFum6YvW0l+pEZA3SEYpD+ZLmtOxGyKkL91En9Q71lknhXkJnFTAHn4E9XJNFgbt6g2Rzmeufn+e9lfO80rvHkh5xJ19ip0ha2+gJYxuxZuaA3QZZtfhYLa4kp7yeuV8/H1aMX3Pup9qmdwfwkA4hEstnoyXO/sSR3h7gJtPjg6yB+vGE+E7ET7uXCC45rnQfoMXRC7J9lIZxs4GpDaI5CtPqROpF0jgyt386zcZPaxFq+Sxf4eGox/xajt4cUdj9O95HAglghyNe+P4d7Il5/vUPX+H+i33eWrrOleRBo7EtmzJ2MQObkLmg6uxblZECvGMxHDOvJ4xdxMAmM4cqDtJYrApSlZMoQ09PiaQgVRnXpqf5uztfZe3aMieu3cCurYN7CpA4i1tdR5uC9ObzfBCdZWQinutu81xni3k9IdUZsTK7FGJFMNeSKEOqcub1mAU9ZuQierrTHDvLXMjAJvuebweqNTPH0Mbcz+a5sbPM7Rsn6N1V+PHk0DPpcuSD9hXfqpeXkDRh8uIpJssBa68L9mzGN698wm8vfELuA5wv+81UZXRVRiKG03rMitZopGECbKvSvmY0/zN9vtHsC9FD3ow32XKO68U8744v87e33mD19iJnfqxI1gydqw/xozF2feNQ5u542wTeYlfLNimJI4JBj+lil7GJ+VnnEp9P54hUQaAcX+nf5Upyn9W8z9SHDViA9pmfRAxdlfGwmGOz6DKtOJ01M8en+YDNosuN8Qofb51k9eYi6e2Auc+G6PUhxe17jzTRGf086X+ZkDAq90PSDhLH+E4MYUB2pk+2GHD3u463X/uId65/CW51SNaFeMOj7C4BJQ6mi4rpCkzPFpy/tMrWJGGwmdK5HnP2J1PU1BLsTMEUSJZDluN2BnhTlIftjyBPvNPsTV5+ZDyeuZ9kzxOM+6hhyshGFMOQ7paQPvB0PzdI4VHWIUV5VCWcxIjTFF3NxIRMJxEyCojXIf7VvdIcd3aedJoA/D9QQ4wXMrXOWQAAAABJRU5ErkJggg==\" y=\"-22.063888\"/>\n   </g>\n   <g id=\"patch_8\">\n    <path d=\"M 78.794915 79.063888 \nL 78.794915 22.318125 \n\" style=\"fill:none;stroke:#000000;stroke-linecap:square;stroke-linejoin:miter;stroke-width:0.8;\"/>\n   </g>\n   <g id=\"patch_9\">\n    <path d=\"M 135.540678 79.063888 \nL 135.540678 22.318125 \n\" style=\"fill:none;stroke:#000000;stroke-linecap:square;stroke-linejoin:miter;stroke-width:0.8;\"/>\n   </g>\n   <g id=\"patch_10\">\n    <path d=\"M 78.794915 79.063888 \nL 135.540678 79.063888 \n\" style=\"fill:none;stroke:#000000;stroke-linecap:square;stroke-linejoin:miter;stroke-width:0.8;\"/>\n   </g>\n   <g id=\"patch_11\">\n    <path d=\"M 78.794915 22.318125 \nL 135.540678 22.318125 \n\" style=\"fill:none;stroke:#000000;stroke-linecap:square;stroke-linejoin:miter;stroke-width:0.8;\"/>\n   </g>\n   <g id=\"text_2\">\n    <!-- t-shirt -->\n    <defs>\n     <path d=\"M 4.890625 31.390625 \nL 31.203125 31.390625 \nL 31.203125 23.390625 \nL 4.890625 23.390625 \nz\n\" id=\"DejaVuSans-45\"/>\n     <path d=\"M 44.28125 53.078125 \nL 44.28125 44.578125 \nQ 40.484375 46.53125 36.375 47.5 \nQ 32.28125 48.484375 27.875 48.484375 \nQ 21.1875 48.484375 17.84375 46.4375 \nQ 14.5 44.390625 14.5 40.28125 \nQ 14.5 37.15625 16.890625 35.375 \nQ 19.28125 33.59375 26.515625 31.984375 \nL 29.59375 31.296875 \nQ 39.15625 29.25 43.1875 25.515625 \nQ 47.21875 21.78125 47.21875 15.09375 \nQ 47.21875 7.46875 41.1875 3.015625 \nQ 35.15625 -1.421875 24.609375 -1.421875 \nQ 20.21875 -1.421875 15.453125 -0.5625 \nQ 10.6875 0.296875 5.421875 2 \nL 5.421875 11.28125 \nQ 10.40625 8.6875 15.234375 7.390625 \nQ 20.0625 6.109375 24.8125 6.109375 \nQ 31.15625 6.109375 34.5625 8.28125 \nQ 37.984375 10.453125 37.984375 14.40625 \nQ 37.984375 18.0625 35.515625 20.015625 \nQ 33.0625 21.96875 24.703125 23.78125 \nL 21.578125 24.515625 \nQ 13.234375 26.265625 9.515625 29.90625 \nQ 5.8125 33.546875 5.8125 39.890625 \nQ 5.8125 47.609375 11.28125 51.796875 \nQ 16.75 56 26.8125 56 \nQ 31.78125 56 36.171875 55.265625 \nQ 40.578125 54.546875 44.28125 53.078125 \nz\n\" id=\"DejaVuSans-115\"/>\n     <path d=\"M 54.890625 33.015625 \nL 54.890625 0 \nL 45.90625 0 \nL 45.90625 32.71875 \nQ 45.90625 40.484375 42.875 44.328125 \nQ 39.84375 48.1875 33.796875 48.1875 \nQ 26.515625 48.1875 22.3125 43.546875 \nQ 18.109375 38.921875 18.109375 30.90625 \nL 18.109375 0 \nL 9.078125 0 \nL 9.078125 75.984375 \nL 18.109375 75.984375 \nL 18.109375 46.1875 \nQ 21.34375 51.125 25.703125 53.5625 \nQ 30.078125 56 35.796875 56 \nQ 45.21875 56 50.046875 50.171875 \nQ 54.890625 44.34375 54.890625 33.015625 \nz\n\" id=\"DejaVuSans-104\"/>\n     <path d=\"M 9.421875 54.6875 \nL 18.40625 54.6875 \nL 18.40625 0 \nL 9.421875 0 \nz\nM 9.421875 75.984375 \nL 18.40625 75.984375 \nL 18.40625 64.59375 \nL 9.421875 64.59375 \nz\n\" id=\"DejaVuSans-105\"/>\n     <path d=\"M 41.109375 46.296875 \nQ 39.59375 47.171875 37.8125 47.578125 \nQ 36.03125 48 33.890625 48 \nQ 26.265625 48 22.1875 43.046875 \nQ 18.109375 38.09375 18.109375 28.8125 \nL 18.109375 0 \nL 9.078125 0 \nL 9.078125 54.6875 \nL 18.109375 54.6875 \nL 18.109375 46.1875 \nQ 20.953125 51.171875 25.484375 53.578125 \nQ 30.03125 56 36.53125 56 \nQ 37.453125 56 38.578125 55.875 \nQ 39.703125 55.765625 41.0625 55.515625 \nz\n\" id=\"DejaVuSans-114\"/>\n    </defs>\n    <g transform=\"translate(89.237172 16.318125)scale(0.12 -0.12)\">\n     <use xlink:href=\"#DejaVuSans-116\"/>\n     <use x=\"39.208984\" xlink:href=\"#DejaVuSans-45\"/>\n     <use x=\"75.292969\" xlink:href=\"#DejaVuSans-115\"/>\n     <use x=\"127.392578\" xlink:href=\"#DejaVuSans-104\"/>\n     <use x=\"190.771484\" xlink:href=\"#DejaVuSans-105\"/>\n     <use x=\"218.554688\" xlink:href=\"#DejaVuSans-114\"/>\n     <use x=\"259.667969\" xlink:href=\"#DejaVuSans-116\"/>\n    </g>\n   </g>\n  </g>\n  <g id=\"axes_3\">\n   <g id=\"patch_12\">\n    <path d=\"M 146.889831 79.063888 \nL 203.635593 79.063888 \nL 203.635593 22.318125 \nL 146.889831 22.318125 \nz\n\" style=\"fill:#ffffff;\"/>\n   </g>\n   <g clip-path=\"url(#p04c09088e6)\">\n    <image height=\"57\" id=\"imageb245c6967b\" transform=\"scale(1 -1)translate(0 -57)\" width=\"57\" x=\"146.889831\" xlink:href=\"data:image/png;base64,\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\" y=\"-22.063888\"/>\n   </g>\n   <g id=\"patch_13\">\n    <path d=\"M 146.889831 79.063888 \nL 146.889831 22.318125 \n\" style=\"fill:none;stroke:#000000;stroke-linecap:square;stroke-linejoin:miter;stroke-width:0.8;\"/>\n   </g>\n   <g id=\"patch_14\">\n    <path d=\"M 203.635593 79.063888 \nL 203.635593 22.318125 \n\" style=\"fill:none;stroke:#000000;stroke-linecap:square;stroke-linejoin:miter;stroke-width:0.8;\"/>\n   </g>\n   <g id=\"patch_15\">\n    <path d=\"M 146.889831 79.063888 \nL 203.635593 79.063888 \n\" style=\"fill:none;stroke:#000000;stroke-linecap:square;stroke-linejoin:miter;stroke-width:0.8;\"/>\n   </g>\n   <g id=\"patch_16\">\n    <path d=\"M 146.889831 22.318125 \nL 203.635593 22.318125 \n\" style=\"fill:none;stroke:#000000;stroke-linecap:square;stroke-linejoin:miter;stroke-width:0.8;\"/>\n   </g>\n   <g id=\"text_3\">\n    <!-- t-shirt -->\n    <g transform=\"translate(157.332087 16.318125)scale(0.12 -0.12)\">\n     <use xlink:href=\"#DejaVuSans-116\"/>\n     <use x=\"39.208984\" xlink:href=\"#DejaVuSans-45\"/>\n     <use x=\"75.292969\" xlink:href=\"#DejaVuSans-115\"/>\n     <use x=\"127.392578\" xlink:href=\"#DejaVuSans-104\"/>\n     <use x=\"190.771484\" xlink:href=\"#DejaVuSans-105\"/>\n     <use x=\"218.554688\" xlink:href=\"#DejaVuSans-114\"/>\n     <use x=\"259.667969\" xlink:href=\"#DejaVuSans-116\"/>\n    </g>\n   </g>\n  </g>\n  <g id=\"axes_4\">\n   <g id=\"patch_17\">\n    <path d=\"M 214.984746 79.063888 \nL 271.730508 79.063888 \nL 271.730508 22.318125 \nL 214.984746 22.318125 \nz\n\" style=\"fill:#ffffff;\"/>\n   </g>\n   <g clip-path=\"url(#p96c1f034b3)\">\n    <image height=\"57\" id=\"imagec421e8d598\" transform=\"scale(1 -1)translate(0 -57)\" width=\"57\" x=\"214.984746\" xlink:href=\"data:image/png;base64,\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\" y=\"-22.063888\"/>\n   </g>\n   <g id=\"patch_18\">\n    <path d=\"M 214.984746 79.063888 \nL 214.984746 22.318125 \n\" style=\"fill:none;stroke:#000000;stroke-linecap:square;stroke-linejoin:miter;stroke-width:0.8;\"/>\n   </g>\n   <g id=\"patch_19\">\n    <path d=\"M 271.730508 79.063888 \nL 271.730508 22.318125 \n\" style=\"fill:none;stroke:#000000;stroke-linecap:square;stroke-linejoin:miter;stroke-width:0.8;\"/>\n   </g>\n   <g id=\"patch_20\">\n    <path d=\"M 214.984746 79.063888 \nL 271.730508 79.063888 \n\" style=\"fill:none;stroke:#000000;stroke-linecap:square;stroke-linejoin:miter;stroke-width:0.8;\"/>\n   </g>\n   <g id=\"patch_21\">\n    <path d=\"M 214.984746 22.318125 \nL 271.730508 22.318125 \n\" style=\"fill:none;stroke:#000000;stroke-linecap:square;stroke-linejoin:miter;stroke-width:0.8;\"/>\n   </g>\n   <g id=\"text_4\">\n    <!-- dress -->\n    <defs>\n     <path d=\"M 45.40625 46.390625 \nL 45.40625 75.984375 \nL 54.390625 75.984375 \nL 54.390625 0 \nL 45.40625 0 \nL 45.40625 8.203125 \nQ 42.578125 3.328125 38.25 0.953125 \nQ 33.9375 -1.421875 27.875 -1.421875 \nQ 17.96875 -1.421875 11.734375 6.484375 \nQ 5.515625 14.40625 5.515625 27.296875 \nQ 5.515625 40.1875 11.734375 48.09375 \nQ 17.96875 56 27.875 56 \nQ 33.9375 56 38.25 53.625 \nQ 42.578125 51.265625 45.40625 46.390625 \nz\nM 14.796875 27.296875 \nQ 14.796875 17.390625 18.875 11.75 \nQ 22.953125 6.109375 30.078125 6.109375 \nQ 37.203125 6.109375 41.296875 11.75 \nQ 45.40625 17.390625 45.40625 27.296875 \nQ 45.40625 37.203125 41.296875 42.84375 \nQ 37.203125 48.484375 30.078125 48.484375 \nQ 22.953125 48.484375 18.875 42.84375 \nQ 14.796875 37.203125 14.796875 27.296875 \nz\n\" id=\"DejaVuSans-100\"/>\n    </defs>\n    <g transform=\"translate(227.273877 16.318125)scale(0.12 -0.12)\">\n     <use xlink:href=\"#DejaVuSans-100\"/>\n     <use x=\"63.476562\" xlink:href=\"#DejaVuSans-114\"/>\n     <use x=\"102.339844\" xlink:href=\"#DejaVuSans-101\"/>\n     <use x=\"163.863281\" xlink:href=\"#DejaVuSans-115\"/>\n     <use x=\"215.962891\" xlink:href=\"#DejaVuSans-115\"/>\n    </g>\n   </g>\n  </g>\n  <g id=\"axes_5\">\n   <g id=\"patch_22\">\n    <path d=\"M 283.079661 79.063888 \nL 339.825424 79.063888 \nL 339.825424 22.318125 \nL 283.079661 22.318125 \nz\n\" style=\"fill:#ffffff;\"/>\n   </g>\n   <g clip-path=\"url(#p4f0397abb5)\">\n    <image height=\"57\" id=\"image5474724b16\" transform=\"scale(1 -1)translate(0 -57)\" width=\"57\" x=\"283.079661\" xlink:href=\"data:image/png;base64,\niVBORw0KGgoAAAANSUhEUgAAADkAAAA5CAYAAACMGIOFAAAABHNCSVQICAgIfAhkiAAADFVJREFUaIHNm82PY9lZxn/vOffce22X7XJXdXf11Ez3fPWM0oxmQgRJEAKEIIuE2SBlxwZFyiIkKzYskfgX2CD+gCCkLBBICMRqYBHQMCgaTVqd6fmeqe6u73K5bN+vc94sru1ydTVBsc1kXqmkKl/f6/P4eT+e9z2n5A/l28qqTAT58h3GT7c4u2HJe8Lw+ZLN7T7Vv2zy1D8/QI/7+ONjht/+GjvfCJhmRaNVkL3fYfMnSufDMfLjt0FXt6xo2QdIFCFRhNm6Rug0OXt2jdFVQ7YhlF0lapdcaYx40ABtJDB0APhYiNolaaOg28jY6TYZX3MY36B79jJmMCYcHKFFgeb5rxCkCPaZbaqrHX72A8f3vvLG7JJFMRK4k+zwrDvhm6/9gOOdHut3Lezu0X/B8Ndf/TvaZswVk/Hxiz3u//YWpVo8wt++/Ts89cPrNHaG8JO7SzG7JEhD+VSPwc2Ur77wLn/eu89hGHMSYBQiCgzPRgXXbItmK6dKU9RZAHyqvBIf0hJDx6Rs2WNuu0PaRuiZlHvP3+Ct518FWjTuxmhZQfCfP0iTJtz7TsRf/NY/8ZXGR+z5nE99wr5vU2pEoZYNs8M1C3nm6PYDZlTgAZMLd4se63bEVTOiHxyHoU3bZAzNmO9ee4Pf+7N7/NX/vM5L79+Eoz5+d2+xdS4OMMV0O2xvH/Hd7qc8GxWMFEYhIQsxw5CQBUeh9UcEFUylEAIAEiBTR6aOkVoyjerfQ8JAI56OxvxJe4+XbuxRbq5Btw0iC611ISYlish/9xVObzleat/joR9x4B2nmuARWiaHABkOK3OxJMwW6hPltjsgUP9tJJBKCcCRb1JqBoz4te5D/uGPbrH+s5SNDz9Fy+KXXu9iTIphdDViuC1ciUeUSs1EcHg1GMLlWwA1cs6GgbYJpFLHmUWxKB6hUEupllJh053hn8rJNgTMYkwuBFJcRP8FQ/TaCb/R/pCWEYzUwKwErAQydZz4JpnWicZGniqVWeJRgViERKApHje9HyUWTyoVbSO8mOzywvY++aYin6e7AlQt5enOgHU7mn1TJRYm3ulVJmwYvAaSuCLvCGUvJd7cICSXS4LnHIQRxU5cvxuPCZGCWczxFgMZAvGJ8PF+j/vXr3Pb7XO/2OJBuc4VO6RlcgKGVEoOfYt75Snff/kN3t5+hg/ONtjpX+P1Z/6bR94yCDEnoTlJVjEAVhSvhpYccy+/wU8f3SA5Mqj/nEtIlMHoLKZfNSnVMPAp/apJKhVWAl4NTjyZOg5Dg683PuAbzXfZ30x4VHVpmZxRcAxCg8NqjVIjyolrA7RMTqaW46pFdhbTGS+60gVBqg+sv1dBiDl6rcVzLvBuecZB1cZJhRM/Sz7T2EylpC0Vpdq6dHjHCToDZicxeeRbPMq7ANyJdzks1oh3YtIDhbCY6lkQpCc5zGm1DGPvWJOEVMoa3KRk1C4nBDVkOEq1BJgwFtXXHst7Tiry4Ngv1thK+liUsXfEp4IbedDLWfv/DSQacDtHdMp1dsdtAGLxODmPGa+TeogBrRkdBMdQa6FgOc/GhoAVxRI4KNd4Z/8GTgLZ2jvsZm2aD5XGQYF+nkyiivZPsdYyLGPCJKU68VjCDOAMMIZSI7IJizWrMsmg09IRMBIoQsRwnNAvUzzCsIxJTj32rGBRib5w4gnDMSaKOBpd45NqTKFtElMrllIjnFQX1Q61qjGExxg3NTi1BHW82Nij8WLBy81HrJuKYRGzef8EDk/wn7dA17JAxxl57tj3DUqNZqx4DG7uvfPMWgk12xiCClYgYPBq8Bg2o1NuxQdsRSekIuRlBLu7hNOzRZe6ZKulSnEW81b2LC2Tk5qSLDiCCggzMFAX+qA1GCsBFAL2wuNKtQRNyDTGI5QaMRwlaFGiVfkrAgmQGz7JN7iZHLJh62+7LiAGuOhexWOg5q1m1kxYFYJKrYWzCMpyqaZ54VYLgBBI9yLeePgie2WHdBKTU8YugNBzEBden7hqHhyjUDPYNAUPy3X+cf/LRPsOXXLesxRIVcWdwt5Bh+OyiZMKYFbg/dzjA4ZC7SXw0/d5hFGICWpIpeC4bPLu4VXiviwsAqa2HJPe03oYSN5P+Wy0jp0keY9cAHj5Q8+Lepi4ZlCDQdmMTvnN9BMO8jX8f/Xovbu4CJjaUjGpQWnulZTNmKOsBczFlsqlevm4q86/f9qBrNsRL7mUk6LB5jsVjQfDhYX51JZOPO4oo9W0WBN42R1ORhjxTN5NzavBi1xop2bXECxaZ2d1fFSN+OS4x833jpHjU6olY3LJEhKw/SFJGqGiPOfW+LgazZRP4HxKMC0JT0o+YRKnTjxZcOz4NYb9lPDe/YXGHY/b0nVSj/s4VfazlFxL4FyXzlvtkueMTGN2CtBIwKJkGvOg7EH+v5ebX9aWSzyAPz4mPNxllMdkWuEnmhQmZWPuI6YJaZph54UC1F1IqZYHZQ8pFxt1PMmWFwMTU4Wgl5l6EqvzNlVCTLqYo3KNz/IedmSWzqpTW5rJX2R1hn2MTZWZbq3fYy40zmc+4YPBBtF4dUyuFOR8zIUntFvT+Jtnt05INUgnnjOfsDtoY7PVrWtlIHXaJOt8DJpZDE4ZnLcwkXplsAQ1OKkYVgn9fpNoyMJN8uO2spgEfmH0BeoYCxPgcJ5wjNQ7YLF4xt6hY4stvkD7k1NTFfwTinbddtUjkCmzQc9rpp+5sGIIFMFiz+wX011FFPuECff8iOPytYuvWwlEJhCcoqsrk6tNPP/Xw6YsXo7N8y8nNhUaK2GFgbSyRxmjpGJn81O4XCMtYeK6YTKlMzhTYUI8t5ei4AIhWh3KlT3JmkBD4tmQyoheKiMwBxQw1AJgeo9XQ2wqbOoJ7tKtC9vyByOSBFlrEdmL7dCscVZm48d5mxcDYaJ6AgYngchVaARiZCWiZ2mQptOBK11SV08Fpgpm+mPnZrJmMqmD6SzWkgVHGezs98SUtBo5WdxedmkzW/r0hyQxoRFTVBU7fsRQN4HpoPlx9sxsile7LRdi2EjAiOJsIFudqlueSW01qLoJo1x4M3uKQUgBSKXEmjCbp+bBkWlESr3rZURxlIwkxmNmYiAxFZEJPGEUtLAtDzJ1lM0Ia7MLrEA9yzEScEAnGl+YnGdabwKlUtG22WTDqLr0jFXY0ud4qnZC3rO005ym5JySnrulKE4qYvHcdvs8F1mOQkE/WB75NXbKHm07pmly1u2ItslwMpH5q1N1yzMZEkuVCmvWX2DBT4bE6zanbTL+bfglfnq2zdPpMbeSA5om51o04DSkDHxjdp8TT2z9ShXPUiDFCEUnItsQtuNsdkSlVIvRAMRctQNuRyV/+u9/wM2/N/zH1x3NXz/kWzfv8v0rP+Z+tcZRtTbZIjA0TcFGOuRBvDoqlw7vKhWqFqRROZNrRuqdq1gqUvEkEsEworEzwA2g9DVNTWOJ8Re6EiOB1FZfIO0qhmzDkG1Vk/M8F/f8r0antKUikYhoYNC775Gc1AylpqRrGqSTqXt9difCied6ckpwXxQmjeATMK2ShikutE1OKhweK2DFQACtaoZaSYETT67lhTlsMScieIIkXHiZy9wsIhRdZetqn06U1ed4qKduLZPTMRkO8HParGwJX7qySy8a8qDKGWo8i+XpYHpQpZjlhuYXbPnsGkHTlbMdrdSUWFFSKUmlogTONKdqB+ydl8g2le30hHU7JFCrn5apD+1OZ0CxqVZJ5PIgfarcaPZZsxkW5Zod1MdZTEFTPCch4kHluH1nh3vf2+bVVz/gj7tvkUqdbtZNjnUHnIQme1Wbpim4lR7hU511K8va8q3WpOiXahmGhEIsp6S8Ob7KbtlhN+/QL1Pef3SV6Mxwb/caf5P+Pg1b0LAlzyX73El36v2QyRRhenJSrEErWfo8+vIgFcpgeVisM/IJe2Wbo6LJm//6Clv/WZIcZpiTIS9n+/WOcRKzk2wROg3KTsKPXnf85bd+RGpK2mbMiW+yV7SRANJqYoCQLTfwWW7rTpV03/DWzjPcTa6TuIqzLCHPHOsfKY33DuDgCH/Sv3Sv7XRIux3aH93khw++xprLabuc3XGbz/pd0n2z9Obr1GTZf5mItq6ja836HKsIhICE+pxPOD2rDzQ8yd1EEGsxvR5c6RI6DYpuTDSsiA4GyGBItXdQbxUs6a5Lg1yV2fUucqWHDob4/f2VPvvnSFdS1pKY4hQAAAAASUVORK5CYII=\" y=\"-22.063888\"/>\n   </g>\n   <g id=\"patch_23\">\n    <path d=\"M 283.079661 79.063888 \nL 283.079661 22.318125 \n\" style=\"fill:none;stroke:#000000;stroke-linecap:square;stroke-linejoin:miter;stroke-width:0.8;\"/>\n   </g>\n   <g id=\"patch_24\">\n    <path d=\"M 339.825424 79.063888 \nL 339.825424 22.318125 \n\" style=\"fill:none;stroke:#000000;stroke-linecap:square;stroke-linejoin:miter;stroke-width:0.8;\"/>\n   </g>\n   <g id=\"patch_25\">\n    <path d=\"M 283.079661 79.063888 \nL 339.825424 79.063888 \n\" style=\"fill:none;stroke:#000000;stroke-linecap:square;stroke-linejoin:miter;stroke-width:0.8;\"/>\n   </g>\n   <g id=\"patch_26\">\n    <path d=\"M 283.079661 22.318125 \nL 339.825424 22.318125 \n\" style=\"fill:none;stroke:#000000;stroke-linecap:square;stroke-linejoin:miter;stroke-width:0.8;\"/>\n   </g>\n   <g id=\"text_5\">\n    <!-- t-shirt -->\n    <g transform=\"translate(293.521917 16.318125)scale(0.12 -0.12)\">\n     <use xlink:href=\"#DejaVuSans-116\"/>\n     <use x=\"39.208984\" xlink:href=\"#DejaVuSans-45\"/>\n     <use x=\"75.292969\" xlink:href=\"#DejaVuSans-115\"/>\n     <use x=\"127.392578\" xlink:href=\"#DejaVuSans-104\"/>\n     <use x=\"190.771484\" xlink:href=\"#DejaVuSans-105\"/>\n     <use x=\"218.554688\" xlink:href=\"#DejaVuSans-114\"/>\n     <use x=\"259.667969\" xlink:href=\"#DejaVuSans-116\"/>\n    </g>\n   </g>\n  </g>\n  <g id=\"axes_6\">\n   <g id=\"patch_27\">\n    <path d=\"M 351.174576 79.063888 \nL 407.920339 79.063888 \nL 407.920339 22.318125 \nL 351.174576 22.318125 \nz\n\" style=\"fill:#ffffff;\"/>\n   </g>\n   <g clip-path=\"url(#p9373c5d90a)\">\n    <image height=\"57\" id=\"imagea7d20e412b\" transform=\"scale(1 -1)translate(0 -57)\" width=\"57\" x=\"351.174576\" xlink:href=\"data:image/png;base64,\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\" y=\"-22.063888\"/>\n   </g>\n   <g id=\"patch_28\">\n    <path d=\"M 351.174576 79.063888 \nL 351.174576 22.318125 \n\" style=\"fill:none;stroke:#000000;stroke-linecap:square;stroke-linejoin:miter;stroke-width:0.8;\"/>\n   </g>\n   <g id=\"patch_29\">\n    <path d=\"M 407.920339 79.063888 \nL 407.920339 22.318125 \n\" style=\"fill:none;stroke:#000000;stroke-linecap:square;stroke-linejoin:miter;stroke-width:0.8;\"/>\n   </g>\n   <g id=\"patch_30\">\n    <path d=\"M 351.174576 79.063888 \nL 407.920339 79.063888 \n\" style=\"fill:none;stroke:#000000;stroke-linecap:square;stroke-linejoin:miter;stroke-width:0.8;\"/>\n   </g>\n   <g id=\"patch_31\">\n    <path d=\"M 351.174576 22.318125 \nL 407.920339 22.318125 \n\" style=\"fill:none;stroke:#000000;stroke-linecap:square;stroke-linejoin:miter;stroke-width:0.8;\"/>\n   </g>\n   <g id=\"text_6\">\n    <!-- pullover -->\n    <defs>\n     <path d=\"M 18.109375 8.203125 \nL 18.109375 -20.796875 \nL 9.078125 -20.796875 \nL 9.078125 54.6875 \nL 18.109375 54.6875 \nL 18.109375 46.390625 \nQ 20.953125 51.265625 25.265625 53.625 \nQ 29.59375 56 35.59375 56 \nQ 45.5625 56 51.78125 48.09375 \nQ 58.015625 40.1875 58.015625 27.296875 \nQ 58.015625 14.40625 51.78125 6.484375 \nQ 45.5625 -1.421875 35.59375 -1.421875 \nQ 29.59375 -1.421875 25.265625 0.953125 \nQ 20.953125 3.328125 18.109375 8.203125 \nz\nM 48.6875 27.296875 \nQ 48.6875 37.203125 44.609375 42.84375 \nQ 40.53125 48.484375 33.40625 48.484375 \nQ 26.265625 48.484375 22.1875 42.84375 \nQ 18.109375 37.203125 18.109375 27.296875 \nQ 18.109375 17.390625 22.1875 11.75 \nQ 26.265625 6.109375 33.40625 6.109375 \nQ 40.53125 6.109375 44.609375 11.75 \nQ 48.6875 17.390625 48.6875 27.296875 \nz\n\" id=\"DejaVuSans-112\"/>\n     <path d=\"M 8.5 21.578125 \nL 8.5 54.6875 \nL 17.484375 54.6875 \nL 17.484375 21.921875 \nQ 17.484375 14.15625 20.5 10.265625 \nQ 23.53125 6.390625 29.59375 6.390625 \nQ 36.859375 6.390625 41.078125 11.03125 \nQ 45.3125 15.671875 45.3125 23.6875 \nL 45.3125 54.6875 \nL 54.296875 54.6875 \nL 54.296875 0 \nL 45.3125 0 \nL 45.3125 8.40625 \nQ 42.046875 3.421875 37.71875 1 \nQ 33.40625 -1.421875 27.6875 -1.421875 \nQ 18.265625 -1.421875 13.375 4.4375 \nQ 8.5 10.296875 8.5 21.578125 \nz\nM 31.109375 56 \nz\n\" id=\"DejaVuSans-117\"/>\n     <path d=\"M 2.984375 54.6875 \nL 12.5 54.6875 \nL 29.59375 8.796875 \nL 46.6875 54.6875 \nL 56.203125 54.6875 \nL 35.6875 0 \nL 23.484375 0 \nz\n\" id=\"DejaVuSans-118\"/>\n    </defs>\n    <g transform=\"translate(355.221208 16.318125)scale(0.12 -0.12)\">\n     <use xlink:href=\"#DejaVuSans-112\"/>\n     <use x=\"63.476562\" xlink:href=\"#DejaVuSans-117\"/>\n     <use x=\"126.855469\" xlink:href=\"#DejaVuSans-108\"/>\n     <use x=\"154.638672\" xlink:href=\"#DejaVuSans-108\"/>\n     <use x=\"182.421875\" xlink:href=\"#DejaVuSans-111\"/>\n     <use x=\"243.603516\" xlink:href=\"#DejaVuSans-118\"/>\n     <use x=\"302.783203\" xlink:href=\"#DejaVuSans-101\"/>\n     <use x=\"364.306641\" xlink:href=\"#DejaVuSans-114\"/>\n    </g>\n   </g>\n  </g>\n  <g id=\"axes_7\">\n   <g id=\"patch_32\">\n    <path d=\"M 419.269492 79.063888 \nL 476.015254 79.063888 \nL 476.015254 22.318125 \nL 419.269492 22.318125 \nz\n\" style=\"fill:#ffffff;\"/>\n   </g>\n   <g clip-path=\"url(#pa9eb95ccd2)\">\n    <image height=\"57\" id=\"image0f672c73e9\" transform=\"scale(1 -1)translate(0 -57)\" width=\"57\" x=\"419.269492\" xlink:href=\"data:image/png;base64,\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\" y=\"-22.063888\"/>\n   </g>\n   <g id=\"patch_33\">\n    <path d=\"M 419.269492 79.063888 \nL 419.269492 22.318125 \n\" style=\"fill:none;stroke:#000000;stroke-linecap:square;stroke-linejoin:miter;stroke-width:0.8;\"/>\n   </g>\n   <g id=\"patch_34\">\n    <path d=\"M 476.015254 79.063888 \nL 476.015254 22.318125 \n\" style=\"fill:none;stroke:#000000;stroke-linecap:square;stroke-linejoin:miter;stroke-width:0.8;\"/>\n   </g>\n   <g id=\"patch_35\">\n    <path d=\"M 419.269492 79.063888 \nL 476.015254 79.063888 \n\" style=\"fill:none;stroke:#000000;stroke-linecap:square;stroke-linejoin:miter;stroke-width:0.8;\"/>\n   </g>\n   <g id=\"patch_36\">\n    <path d=\"M 419.269492 22.318125 \nL 476.015254 22.318125 \n\" style=\"fill:none;stroke:#000000;stroke-linecap:square;stroke-linejoin:miter;stroke-width:0.8;\"/>\n   </g>\n   <g id=\"text_7\">\n    <!-- sneaker -->\n    <g transform=\"translate(423.930185 16.318125)scale(0.12 -0.12)\">\n     <use xlink:href=\"#DejaVuSans-115\"/>\n     <use x=\"52.099609\" xlink:href=\"#DejaVuSans-110\"/>\n     <use x=\"115.478516\" xlink:href=\"#DejaVuSans-101\"/>\n     <use x=\"177.001953\" xlink:href=\"#DejaVuSans-97\"/>\n     <use x=\"238.28125\" xlink:href=\"#DejaVuSans-107\"/>\n     <use x=\"292.566406\" xlink:href=\"#DejaVuSans-101\"/>\n     <use x=\"354.089844\" xlink:href=\"#DejaVuSans-114\"/>\n    </g>\n   </g>\n  </g>\n  <g id=\"axes_8\">\n   <g id=\"patch_37\">\n    <path d=\"M 487.364407 79.063888 \nL 544.110169 79.063888 \nL 544.110169 22.318125 \nL 487.364407 22.318125 \nz\n\" style=\"fill:#ffffff;\"/>\n   </g>\n   <g clip-path=\"url(#p450c184c98)\">\n    <image height=\"57\" id=\"image52ef201516\" transform=\"scale(1 -1)translate(0 -57)\" width=\"57\" x=\"487.364407\" xlink:href=\"data:image/png;base64,\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\" y=\"-22.063888\"/>\n   </g>\n   <g id=\"patch_38\">\n    <path d=\"M 487.364407 79.063888 \nL 487.364407 22.318125 \n\" style=\"fill:none;stroke:#000000;stroke-linecap:square;stroke-linejoin:miter;stroke-width:0.8;\"/>\n   </g>\n   <g id=\"patch_39\">\n    <path d=\"M 544.110169 79.063888 \nL 544.110169 22.318125 \n\" style=\"fill:none;stroke:#000000;stroke-linecap:square;stroke-linejoin:miter;stroke-width:0.8;\"/>\n   </g>\n   <g id=\"patch_40\">\n    <path d=\"M 487.364407 79.063888 \nL 544.110169 79.063888 \n\" style=\"fill:none;stroke:#000000;stroke-linecap:square;stroke-linejoin:miter;stroke-width:0.8;\"/>\n   </g>\n   <g id=\"patch_41\">\n    <path d=\"M 487.364407 22.318125 \nL 544.110169 22.318125 \n\" style=\"fill:none;stroke:#000000;stroke-linecap:square;stroke-linejoin:miter;stroke-width:0.8;\"/>\n   </g>\n   <g id=\"text_8\">\n    <!-- pullover -->\n    <g transform=\"translate(491.411038 16.318125)scale(0.12 -0.12)\">\n     <use xlink:href=\"#DejaVuSans-112\"/>\n     <use x=\"63.476562\" xlink:href=\"#DejaVuSans-117\"/>\n     <use x=\"126.855469\" xlink:href=\"#DejaVuSans-108\"/>\n     <use x=\"154.638672\" xlink:href=\"#DejaVuSans-108\"/>\n     <use x=\"182.421875\" xlink:href=\"#DejaVuSans-111\"/>\n     <use x=\"243.603516\" xlink:href=\"#DejaVuSans-118\"/>\n     <use x=\"302.783203\" xlink:href=\"#DejaVuSans-101\"/>\n     <use x=\"364.306641\" xlink:href=\"#DejaVuSans-114\"/>\n    </g>\n   </g>\n  </g>\n  <g id=\"axes_9\">\n   <g id=\"patch_42\">\n    <path d=\"M 555.459322 79.063888 \nL 612.205085 79.063888 \nL 612.205085 22.318125 \nL 555.459322 22.318125 \nz\n\" style=\"fill:#ffffff;\"/>\n   </g>\n   <g clip-path=\"url(#pda2c7a7eca)\">\n    <image height=\"57\" id=\"image03d9c315f3\" transform=\"scale(1 -1)translate(0 -57)\" width=\"57\" x=\"555.459322\" xlink:href=\"data:image/png;base64,\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\" y=\"-22.063888\"/>\n   </g>\n   <g id=\"patch_43\">\n    <path d=\"M 555.459322 79.063888 \nL 555.459322 22.318125 \n\" style=\"fill:none;stroke:#000000;stroke-linecap:square;stroke-linejoin:miter;stroke-width:0.8;\"/>\n   </g>\n   <g id=\"patch_44\">\n    <path d=\"M 612.205085 79.063888 \nL 612.205085 22.318125 \n\" style=\"fill:none;stroke:#000000;stroke-linecap:square;stroke-linejoin:miter;stroke-width:0.8;\"/>\n   </g>\n   <g id=\"patch_45\">\n    <path d=\"M 555.459322 79.063888 \nL 612.205085 79.063888 \n\" style=\"fill:none;stroke:#000000;stroke-linecap:square;stroke-linejoin:miter;stroke-width:0.8;\"/>\n   </g>\n   <g id=\"patch_46\">\n    <path d=\"M 555.459322 22.318125 \nL 612.205085 22.318125 \n\" style=\"fill:none;stroke:#000000;stroke-linecap:square;stroke-linejoin:miter;stroke-width:0.8;\"/>\n   </g>\n   <g id=\"text_9\">\n    <!-- sandal -->\n    <g transform=\"translate(564.074391 16.318125)scale(0.12 -0.12)\">\n     <use xlink:href=\"#DejaVuSans-115\"/>\n     <use x=\"52.099609\" xlink:href=\"#DejaVuSans-97\"/>\n     <use x=\"113.378906\" xlink:href=\"#DejaVuSans-110\"/>\n     <use x=\"176.757812\" xlink:href=\"#DejaVuSans-100\"/>\n     <use x=\"240.234375\" xlink:href=\"#DejaVuSans-97\"/>\n     <use x=\"301.513672\" xlink:href=\"#DejaVuSans-108\"/>\n    </g>\n   </g>\n  </g>\n  <g id=\"axes_10\">\n   <g id=\"patch_47\">\n    <path d=\"M 623.554237 79.063888 \nL 680.3 79.063888 \nL 680.3 22.318125 \nL 623.554237 22.318125 \nz\n\" style=\"fill:#ffffff;\"/>\n   </g>\n   <g clip-path=\"url(#pcb2395a04a)\">\n    <image height=\"57\" id=\"image6823f65a69\" transform=\"scale(1 -1)translate(0 -57)\" width=\"57\" x=\"623.554237\" xlink:href=\"data:image/png;base64,\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\" y=\"-22.063888\"/>\n   </g>\n   <g id=\"patch_48\">\n    <path d=\"M 623.554237 79.063888 \nL 623.554237 22.318125 \n\" style=\"fill:none;stroke:#000000;stroke-linecap:square;stroke-linejoin:miter;stroke-width:0.8;\"/>\n   </g>\n   <g id=\"patch_49\">\n    <path d=\"M 680.3 79.063888 \nL 680.3 22.318125 \n\" style=\"fill:none;stroke:#000000;stroke-linecap:square;stroke-linejoin:miter;stroke-width:0.8;\"/>\n   </g>\n   <g id=\"patch_50\">\n    <path d=\"M 623.554237 79.063888 \nL 680.3 79.063888 \n\" style=\"fill:none;stroke:#000000;stroke-linecap:square;stroke-linejoin:miter;stroke-width:0.8;\"/>\n   </g>\n   <g id=\"patch_51\">\n    <path d=\"M 623.554237 22.318125 \nL 680.3 22.318125 \n\" style=\"fill:none;stroke:#000000;stroke-linecap:square;stroke-linejoin:miter;stroke-width:0.8;\"/>\n   </g>\n   <g id=\"text_10\">\n    <!-- sandal -->\n    <g transform=\"translate(632.169306 16.318125)scale(0.12 -0.12)\">\n     <use xlink:href=\"#DejaVuSans-115\"/>\n     <use x=\"52.099609\" xlink:href=\"#DejaVuSans-97\"/>\n     <use x=\"113.378906\" xlink:href=\"#DejaVuSans-110\"/>\n     <use x=\"176.757812\" xlink:href=\"#DejaVuSans-100\"/>\n     <use x=\"240.234375\" xlink:href=\"#DejaVuSans-97\"/>\n     <use x=\"301.513672\" xlink:href=\"#DejaVuSans-108\"/>\n    </g>\n   </g>\n  </g>\n </g>\n <defs>\n  <clipPath id=\"p6096eb5654\">\n   <rect height=\"56.745763\" width=\"56.745763\" x=\"10.7\" y=\"22.318125\"/>\n  </clipPath>\n  <clipPath id=\"pd56ba2904e\">\n   <rect height=\"56.745763\" width=\"56.745763\" x=\"78.794915\" y=\"22.318125\"/>\n  </clipPath>\n  <clipPath id=\"p04c09088e6\">\n   <rect height=\"56.745763\" width=\"56.745763\" x=\"146.889831\" y=\"22.318125\"/>\n  </clipPath>\n  <clipPath id=\"p96c1f034b3\">\n   <rect height=\"56.745763\" width=\"56.745763\" x=\"214.984746\" y=\"22.318125\"/>\n  </clipPath>\n  <clipPath id=\"p4f0397abb5\">\n   <rect height=\"56.745763\" width=\"56.745763\" x=\"283.079661\" y=\"22.318125\"/>\n  </clipPath>\n  <clipPath id=\"p9373c5d90a\">\n   <rect height=\"56.745763\" width=\"56.745763\" x=\"351.174576\" y=\"22.318125\"/>\n  </clipPath>\n  <clipPath id=\"pa9eb95ccd2\">\n   <rect height=\"56.745763\" width=\"56.745763\" x=\"419.269492\" y=\"22.318125\"/>\n  </clipPath>\n  <clipPath id=\"p450c184c98\">\n   <rect height=\"56.745763\" width=\"56.745763\" x=\"487.364407\" y=\"22.318125\"/>\n  </clipPath>\n  <clipPath id=\"pda2c7a7eca\">\n   <rect height=\"56.745763\" width=\"56.745763\" x=\"555.459322\" y=\"22.318125\"/>\n  </clipPath>\n  <clipPath id=\"pcb2395a04a\">\n   <rect height=\"56.745763\" width=\"56.745763\" x=\"623.554237\" y=\"22.318125\"/>\n  </clipPath>\n </defs>\n</svg>\n"
          },
          "metadata": {
            "needs_background": "light"
          }
        }
      ]
    },
    {
      "cell_type": "markdown",
      "metadata": {
        "id": "iVpiwmFoe-wL"
      },
      "source": [
        "## Reading a Minibatch\n",
        "\n",
        "To make our life easier when reading from the training and test sets we use a `DataLoader` rather than creating one from scratch, as we did in `chapter_linear_scratch`. Recall that a data loader reads a mini-batch of data with an example number of `batch_size` each time.\n",
        "\n",
        "In practice, reading data can often be a significant performance bottleneck for training, especially when the model is simple or when the computer is fast. A handy feature of PyTorch's `DataLoader` is the ability to use multiple processes to speed up data reading. For instance, we can set aside 4 processes to read the data (via `num_workers`).\n",
        "\n",
        "We've already applied required transformations before."
      ]
    },
    {
      "cell_type": "code",
      "metadata": {
        "id": "ASaTFlP5e-wL",
        "outputId": "d1f6236f-4782-4dab-b606-5a77657b9cbe",
        "colab": {
          "base_uri": "https://localhost:8080/"
        }
      },
      "source": [
        "batch_size = 256\n",
        "if sys.platform.startswith('win'):\n",
        "    # set 0 for windows\n",
        "    # 0 means no additional processes are needed to speed up the reading of data\n",
        "    num_workers = 0\n",
        "else:\n",
        "    num_workers = 4\n",
        "\n",
        "train_iter = DataLoader(mnist_train, batch_size, shuffle=True, num_workers=num_workers)\n",
        "test_iter = DataLoader(mnist_test, batch_size, shuffle=False, num_workers=num_workers)"
      ],
      "execution_count": 12,
      "outputs": [
        {
          "output_type": "stream",
          "name": "stderr",
          "text": [
            "/usr/local/lib/python3.7/dist-packages/torch/utils/data/dataloader.py:481: UserWarning: This DataLoader will create 4 worker processes in total. Our suggested max number of worker in current system is 2, which is smaller than what this DataLoader is going to create. Please be aware that excessive worker creation might get DataLoader running slow or even freeze, lower the worker number to avoid potential slowness/freeze if necessary.\n",
            "  cpuset_checked))\n"
          ]
        }
      ]
    },
    {
      "cell_type": "markdown",
      "metadata": {
        "id": "rOsZShjae-wL"
      },
      "source": [
        "The logic that we will use to obtain and read the Fashion-MNIST data set is\n",
        "encapsulated in the `d2l.load_data_fashion_mnist` function, which we will use in\n",
        "later chapters. This function will return two variables, `train_iter` and\n",
        "`test_iter`. As the content of this book continues to deepen, we will further\n",
        "improve this function.\n",
        "\n",
        "Let's look at the time it takes to read the training data."
      ]
    },
    {
      "cell_type": "code",
      "metadata": {
        "id": "T_hpAoOMe-wL",
        "outputId": "621f0cdc-30cd-47cf-8079-c679c9a5a10a",
        "colab": {
          "base_uri": "https://localhost:8080/",
          "height": 90
        }
      },
      "source": [
        "start = time.time()\n",
        "for X, y in train_iter:\n",
        "    continue\n",
        "'%.2f sec' % (time.time() - start)"
      ],
      "execution_count": 13,
      "outputs": [
        {
          "output_type": "stream",
          "name": "stderr",
          "text": [
            "/usr/local/lib/python3.7/dist-packages/torch/utils/data/dataloader.py:481: UserWarning: This DataLoader will create 4 worker processes in total. Our suggested max number of worker in current system is 2, which is smaller than what this DataLoader is going to create. Please be aware that excessive worker creation might get DataLoader running slow or even freeze, lower the worker number to avoid potential slowness/freeze if necessary.\n",
            "  cpuset_checked))\n"
          ]
        },
        {
          "output_type": "execute_result",
          "data": {
            "application/vnd.google.colaboratory.intrinsic+json": {
              "type": "string"
            },
            "text/plain": [
              "'6.91 sec'"
            ]
          },
          "metadata": {},
          "execution_count": 13
        }
      ]
    },
    {
      "cell_type": "markdown",
      "metadata": {
        "id": "XDlnwXgce-wM"
      },
      "source": [
        "## Summary\n",
        "\n",
        "* Fashion-MNIST is an apparel classification data set containing 10 categories, which we will use to test the performance of different algorithms in later chapters.\n",
        "* We store the shape of image using height and width of $h$ and $w$ pixels, respectively, as $h \\times w$ or `(h, w)`.\n",
        "* Data iterators are a key component for efficient performance. Use existing ones if available."
      ]
    },
    {
      "cell_type": "markdown",
      "metadata": {
        "id": "Spvu1DmEe-wM"
      },
      "source": [
        "## Exercises\n",
        "\n",
        "1. Does reducing `batch_size` (for instance, to 1) affect read performance?\n",
        "\n",
        "- batch_size = 256\n",
        "      6.44 sec\n",
        "- batch_size = 128\n",
        "      7.15 sec\n",
        "- batch_size = 256\n",
        "      7.99 sec\n",
        "- batch_size = 1\n",
        "      153.98 sec\n",
        "- performance gets worse when reducing batch_size\n",
        "\n",
        "2. For non-Windows users, try modifying `num_workers` to see how it affects read performance.\n",
        "- Check the code below\n",
        "\n",
        "3. Use the PyTorch documentation to see which other datasets are available in `torchvision.datasets`.\n",
        "\n",
        "4. Use the PyTorch documentation to see which other transformations are available in `torchvision.transforms`."
      ]
    },
    {
      "cell_type": "code",
      "metadata": {
        "id": "JLTIRfS8Hcbu",
        "outputId": "d36b59a7-d410-4b4c-9d11-487469d9299e",
        "colab": {
          "base_uri": "https://localhost:8080/"
        }
      },
      "source": [
        "batch_size = 256\n",
        "record = []\n",
        "\n",
        "for workers in [1, 2]:\n",
        "    train_iter = DataLoader(mnist_train, batch_size, shuffle=True, num_workers=num_workers)\n",
        "    \n",
        "    start = time.time()\n",
        "    for x, y in train_iter: continue\n",
        "    record.append(time.time()-start)\n",
        "\n",
        "print(f'workers: 1 time: {record[0]:.3f}\\nworkers: 2 time: {record[1]:.3f}')\n"
      ],
      "execution_count": 14,
      "outputs": [
        {
          "output_type": "stream",
          "name": "stderr",
          "text": [
            "/usr/local/lib/python3.7/dist-packages/torch/utils/data/dataloader.py:481: UserWarning: This DataLoader will create 4 worker processes in total. Our suggested max number of worker in current system is 2, which is smaller than what this DataLoader is going to create. Please be aware that excessive worker creation might get DataLoader running slow or even freeze, lower the worker number to avoid potential slowness/freeze if necessary.\n",
            "  cpuset_checked))\n"
          ]
        },
        {
          "output_type": "stream",
          "name": "stdout",
          "text": [
            "workers: 1 time: 6.852\n",
            "workers: 2 time: 6.570\n"
          ]
        }
      ]
    }
  ]
}