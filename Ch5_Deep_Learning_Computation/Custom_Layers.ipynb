{
  "nbformat": 4,
  "nbformat_minor": 0,
  "metadata": {
    "colab": {
      "name": "Custom Layers.ipynb",
      "version": "0.3.2",
      "provenance": []
    },
    "kernelspec": {
      "name": "python3",
      "display_name": "Python 3"
    }
  },
  "cells": [
    {
      "cell_type": "markdown",
      "metadata": {
        "id": "EtdtP8_cD8-G",
        "colab_type": "text"
      },
      "source": [
        "# Custom Layers"
      ]
    },
    {
      "cell_type": "markdown",
      "metadata": {
        "id": "r50jnbKrIMeZ",
        "colab_type": "text"
      },
      "source": [
        "One of the reasons for the success of deep learning can be found in the wide range of layers that can\n",
        "be used in a deep network. This allows for a tremendous degree of customization and adaptation. For\n",
        "instance, scientists have invented layers for images, text, pooling, loops, dynamic programming, even for\n",
        "computer programs. Sooner or later you will encounter a layer that doesn’t exist yet in Torch, or even\n",
        "better, you will eventually invent a new layer that works well for your problem at hand. This is when it’s\n",
        "time to build a custom layer. This section shows you how."
      ]
    },
    {
      "cell_type": "markdown",
      "metadata": {
        "id": "5F8SRjlqEh2-",
        "colab_type": "text"
      },
      "source": [
        "Layers without Parameters\n",
        "Since this is slightly intricate, we start with a custom layer (aka Module) that doesn’t have any inherent parameters. Our first step is very similar to when we introduced modules previously. The following\n",
        "CenteredLayer class constructs a layer that subtracts the mean from the input. We build it by inheriting from the Module class and implementing the forward method.\n",
        "\n"
      ]
    },
    {
      "cell_type": "code",
      "metadata": {
        "id": "8RnC8rUyEpvF",
        "colab_type": "code",
        "colab": {}
      },
      "source": [
        "import torch\n",
        "from torch import nn\n",
        "class CenteredLayer(nn.Module):\n",
        "  def __init__(self):\n",
        "      super().__init__()\n",
        "  def forward(self, x):\n",
        "    return x - x.mean()\n",
        "  "
      ],
      "execution_count": 0,
      "outputs": []
    },
    {
      "cell_type": "markdown",
      "metadata": {
        "id": "XV7HjPJ2HcTA",
        "colab_type": "text"
      },
      "source": [
        "To see how it works let’s feed some data into the layer.\n",
        "\n"
      ]
    },
    {
      "cell_type": "code",
      "metadata": {
        "id": "mnPzfKzxGf3T",
        "colab_type": "code",
        "outputId": "c0e6cdfe-67d9-4bd4-b2dd-9c300f07860a",
        "colab": {
          "base_uri": "https://localhost:8080/",
          "height": 33
        }
      },
      "source": [
        "layer = CenteredLayer()\n",
        "layer(torch.FloatTensor([1, 2, 3, 4, 5]))"
      ],
      "execution_count": 2,
      "outputs": [
        {
          "output_type": "execute_result",
          "data": {
            "text/plain": [
              "tensor([-2., -1.,  0.,  1.,  2.])"
            ]
          },
          "metadata": {
            "tags": []
          },
          "execution_count": 2
        }
      ]
    },
    {
      "cell_type": "markdown",
      "metadata": {
        "id": "r7b2DC_sGiA5",
        "colab_type": "text"
      },
      "source": [
        "We can also use it to construct more complex models.\n"
      ]
    },
    {
      "cell_type": "code",
      "metadata": {
        "id": "ndZS07wZGqcx",
        "colab_type": "code",
        "colab": {}
      },
      "source": [
        "net = nn.Sequential(nn.Linear(8,128), CenteredLayer())\n"
      ],
      "execution_count": 0,
      "outputs": []
    },
    {
      "cell_type": "markdown",
      "metadata": {
        "id": "Q__zetKlMFuF",
        "colab_type": "text"
      },
      "source": [
        "Let’s see whether the centering layer did its job. For that we send random data through the network and\n",
        "check whether the mean vanishes. Note that since we’re dealing with floating point numbers, we’re going\n",
        "to see a very small albeit typically nonzero number."
      ]
    },
    {
      "cell_type": "code",
      "metadata": {
        "id": "SBXVV0XKLKOm",
        "colab_type": "code",
        "outputId": "32e5c382-1288-4944-b7b4-ec1e42279d11",
        "colab": {
          "base_uri": "https://localhost:8080/",
          "height": 33
        }
      },
      "source": [
        "y=net(torch.rand(4,8))\n",
        "y.mean()"
      ],
      "execution_count": 4,
      "outputs": [
        {
          "output_type": "execute_result",
          "data": {
            "text/plain": [
              "tensor(4.6566e-09, grad_fn=<MeanBackward0>)"
            ]
          },
          "metadata": {
            "tags": []
          },
          "execution_count": 4
        }
      ]
    },
    {
      "cell_type": "markdown",
      "metadata": {
        "id": "nfq8wa3aOavn",
        "colab_type": "text"
      },
      "source": [
        "# Layers with Parameters"
      ]
    },
    {
      "cell_type": "markdown",
      "metadata": {
        "id": "RuBt45V8OhTu",
        "colab_type": "text"
      },
      "source": [
        "Now that we know how to define layers in principle, let’s define layers with parameters. These can be adjusted through training. In order to simplify things for an avid deep learning researcher the Parameter\n",
        "class and the ParameterDict dictionary provide some basic housekeeping functionality. In particular,\n",
        "they govern access, initialization, sharing, saving and loading model parameters. For instance, this way\n",
        "we don’t need to write custom serialization routines for each new custom layer.\n",
        "For instance, we can use the member variable params of the ParameterDict type that comes with\n",
        "the Module class. It is a dictionary that maps string type parameter names to model parameters in the\n",
        "Parameter type. We can create a Parameter instance from ParameterDict via the get function."
      ]
    },
    {
      "cell_type": "code",
      "metadata": {
        "id": "rutASqVeOg94",
        "colab_type": "code",
        "outputId": "e83e69d0-3732-4a45-cb97-92169aa75097",
        "colab": {
          "base_uri": "https://localhost:8080/",
          "height": 33
        }
      },
      "source": [
        "from torch.autograd import Variable\n",
        "params=torch.nn.ParameterDict()\n",
        "params.update({\"param2\":nn.Parameter(Variable(torch.ones(2,3)))})\n",
        "params"
      ],
      "execution_count": 5,
      "outputs": [
        {
          "output_type": "execute_result",
          "data": {
            "text/plain": [
              "ParameterDict(  (param2): Parameter containing: [torch.FloatTensor of size 2x3])"
            ]
          },
          "metadata": {
            "tags": []
          },
          "execution_count": 5
        }
      ]
    },
    {
      "cell_type": "markdown",
      "metadata": {
        "id": "2MslVi6oMLiX",
        "colab_type": "text"
      },
      "source": [
        "Let’s use this to implement our own version of the dense layer. It has two parameters - bias and weight.\n",
        "To make it a bit nonstandard, we bake in the ReLU activation as default. Next, we implement a fully\n",
        "connected layer with both weight and bias parameters. It uses ReLU as an activation function, where\n",
        "in_units and units are the number of inputs and the number of outputs, respectively.\n"
      ]
    },
    {
      "cell_type": "code",
      "metadata": {
        "id": "Elm6quT-QOC6",
        "colab_type": "code",
        "colab": {}
      },
      "source": [
        "import torch.nn.functional as F\n",
        "class MyDense(nn.Module):\n",
        "    def __init__(self, units, in_units):\n",
        "            super().__init__()\n",
        "            self.weight = Variable(torch.ones(in_units, units))\n",
        "            self.bias = Variable(torch.ones(units,))\n",
        "    def forward(self, x):\n",
        "      linear = torch.matmul(x, self.weight.data) + self.bias.data\n",
        "      return F.relu(linear)\n"
      ],
      "execution_count": 0,
      "outputs": []
    },
    {
      "cell_type": "markdown",
      "metadata": {
        "id": "EVK0jlxRQubj",
        "colab_type": "text"
      },
      "source": [
        "Naming the parameters allows us to access them by name through dictionary lookup later. It’s a good idea\n",
        "to give them instructive names. Next, we instantiate the MyDense class and access its model parameters.\n"
      ]
    },
    {
      "cell_type": "code",
      "metadata": {
        "id": "QKZvUVYKRsst",
        "colab_type": "code",
        "outputId": "bfad20b9-ddd4-455e-c84d-4a9a03d3c645",
        "colab": {
          "base_uri": "https://localhost:8080/",
          "height": 33
        }
      },
      "source": [
        "dense = MyDense(units=3, in_units=5)\n",
        "dense.parameters"
      ],
      "execution_count": 7,
      "outputs": [
        {
          "output_type": "execute_result",
          "data": {
            "text/plain": [
              "<bound method Module.parameters of MyDense()>"
            ]
          },
          "metadata": {
            "tags": []
          },
          "execution_count": 7
        }
      ]
    },
    {
      "cell_type": "markdown",
      "metadata": {
        "id": "9LCRANkkRxj3",
        "colab_type": "text"
      },
      "source": [
        "We can directly carry out forward calculations using custom layers."
      ]
    },
    {
      "cell_type": "code",
      "metadata": {
        "id": "EcxgO1p6R8tx",
        "colab_type": "code",
        "outputId": "835ade9b-b9df-49d9-c0c4-4731b76af500",
        "colab": {
          "base_uri": "https://localhost:8080/",
          "height": 50
        }
      },
      "source": [
        "dense(torch.rand(2,5))"
      ],
      "execution_count": 8,
      "outputs": [
        {
          "output_type": "execute_result",
          "data": {
            "text/plain": [
              "tensor([[3.4423, 3.4423, 3.4423],\n",
              "        [2.9083, 2.9083, 2.9083]])"
            ]
          },
          "metadata": {
            "tags": []
          },
          "execution_count": 8
        }
      ]
    },
    {
      "cell_type": "markdown",
      "metadata": {
        "id": "KDNSxXBXR_1u",
        "colab_type": "text"
      },
      "source": [
        "We can also construct models using custom layers. Once we have that we can use it just like the built-in\n",
        "dense layer. The only exception is that in our case size inference is not automagic. Please consult the\n",
        "PyTorch documentation for details on how to do this.,"
      ]
    },
    {
      "cell_type": "code",
      "metadata": {
        "id": "tYO-20Y9SCNC",
        "colab_type": "code",
        "outputId": "46899257-9141-4bea-ab18-19f05d748b92",
        "colab": {
          "base_uri": "https://localhost:8080/",
          "height": 50
        }
      },
      "source": [
        "net = nn.Sequential(\n",
        "MyDense(8, in_units=64),\n",
        "MyDense(1, in_units=8))\n",
        "\n",
        "net(torch.rand(2,64))"
      ],
      "execution_count": 9,
      "outputs": [
        {
          "output_type": "execute_result",
          "data": {
            "text/plain": [
              "tensor([[277.5845],\n",
              "        [313.4908]])"
            ]
          },
          "metadata": {
            "tags": []
          },
          "execution_count": 9
        }
      ]
    },
    {
      "cell_type": "markdown",
      "metadata": {
        "id": "3zGA6m60SE27",
        "colab_type": "text"
      },
      "source": [
        "#Summary\n",
        "• We can design custom layers via the Module class. This is more powerful than defining a module\n",
        "factory, since it can be invoked in many contexts.\n",
        "• Modules can have local parameters."
      ]
    },
    {
      "cell_type": "markdown",
      "metadata": {
        "id": "ZbFfKDqvSLrU",
        "colab_type": "text"
      },
      "source": [
        "#Exercises\n",
        "1. Design a layer that learns an affine transform of the data, i.e. it removes the mean and learns an\n",
        "additive parameter instead.\n",
        "2. Design a layer that takes an input and computes a tensor reduction, i.e. it returns\n",
        "∑\n",
        "yk =\n",
        "i,j Wijkxixj .\n",
        "3. Design a layer that returns the leading half of the Fourier coefficients of the data. Hint - look up\n",
        "the fft function in PyTorch.\n"
      ]
    },
    {
      "cell_type": "code",
      "metadata": {
        "id": "eoIkafPsjVSi",
        "colab_type": "code",
        "colab": {}
      },
      "source": [
        ""
      ],
      "execution_count": 0,
      "outputs": []
    }
  ]
}