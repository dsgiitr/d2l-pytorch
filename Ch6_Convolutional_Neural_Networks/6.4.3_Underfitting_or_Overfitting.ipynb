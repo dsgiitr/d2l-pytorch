{
 "cells": [
  {
   "cell_type": "markdown",
   "metadata": {},
   "source": [
    "# Underfitting or Overfitting?\n",
    "When we compare the training and validation errors, we want to be mindful of two common situations: First, we want\n",
    "to watch out for cases when our training error and validation error are both substantial but there is a little gap between\n",
    "them. If the model is unable to reduce the training error, that could mean that our model is too simple (i.e., insufficiently\n",
    "expressive) to capture the pattern that we are trying to model. Moreover, since the generalization gap between our training\n",
    "and validation errors is small, we have reason to believe that we could get away with a more complex model. This\n",
    "phenomenon is known as underfitting.\n",
    "\n",
    "On the other hand, as we discussed above, we want to watch out for the cases when our training error is significantly lower\n",
    "than our validation error, indicating severe overfitting. Note that overfitting is not always a bad thing. With deep learning\n",
    "especially, it’s well known that the best predictive models often perform far better on training data than on holdout data.\n",
    "\n",
    "Ultimately, we usually care more about the validation error than about the gap between the training and validation errors.\n",
    "Whether we overfit or underfit can depend both on the complexity of our model and the size of the available training\n",
    "datasets, two topics that we discuss below.\n",
    "\n",
    "## Model Complexity \n",
    "\n",
    "To illustrate some classical intuition about overfitting and model complexity, we given an example using polynomials.\n",
    "Given training data consisting of a single feature x and a corresponding real-valued label y, we try to find the polynomial\n",
    "of degree d\n",
    "\n",
    "$$y=\\sum_{i=0}^d\\ W^ix^i$$\n",
    "\n",
    "to estimate the labels y. This is just a linear regression problem where our features are given by the powers of x, the wi\n",
    "given the model’s weights, and the bias is given by w0 since x\n",
    "0 = 1 for all x. Since this is just a linear regression problem,\n",
    "we can use the squared error as our loss function.\n",
    "A higher-order polynomial function is more complex than a lower order polynomial function, since the higher-order polynomial has more parameters and the model function’s selection range is wider. Fixing the training data set, higher-order\n",
    "polynomial functions should always achieve lower (at worst, equal) training error relative to lower degree polynomials.\n",
    "In fact, whenever the data points each have a distinct value of x, a polynomial function with degree equal to the number\n",
    "of data points can fit the training set perfectly. We visualize the relationship between polynomial degree and under- vs\n",
    "over-fitting below.\n",
    "\n",
    "## Data Set Size\n",
    "\n",
    "The other big consideration to bear in mind is the dataset size. Fixing our model, the fewer samples we have in the\n",
    "training dataset, the more likely (and more severely) we are to encounter overfitting. As we increase the amount of\n",
    "training data, the generalization error typically decreases. Moreover, in general, more data never hurts. For a fixed task\n",
    "and data distribution, there is typically a relationship between model complexity and dataset size. Given more data, we\n",
    "might profitably attempt to fit a more complex model. Absent sufficient data, simpler models may be difficult to beat. For\n",
    "many tasks, deep learning only outperforms linear models when many thousands of training examples are available. In part, the current success of deep learning owes to the current abundance of massive datasets due to internet companies,\n",
    "cheap storage, connected devices, and the broad digitization of the economy.\n",
    "\n",
    "## Polynomial Regression\n",
    "We can now explore these concepts interactively by fitting polynomials to data. To get started we’ll import our usual\n",
    "packages."
   ]
  },
  {
   "cell_type": "code",
   "execution_count": 487,
   "metadata": {},
   "outputs": [],
   "source": [
    "import torch\n",
    "import torch.nn as nn\n",
    "import torch.nn.functional as F\n",
    "import torch.utils.data as Data\n",
    "from torch.utils.data import TensorDataset\n",
    "from torch.utils.data import DataLoader"
   ]
  },
  {
   "cell_type": "markdown",
   "metadata": {},
   "source": [
    "## Generating Data Sets\n",
    "\n",
    "First we need data. Given x, we will use the following cubic polynomial to generate the labels on training and test data:\n",
    "\n",
    "$$y=5+1.2x-3.4\\frac{x^2}{2!}+5.6\\frac{x^3}{3!}+ E where E-N(0,0.1)$$\n",
    "\n",
    "The noise term ϵ obeys a normal distribution with a mean of 0 and a standard deviation of 0.1. We’ll synthesize 100\n",
    "samples each for the training set and test set"
   ]
  },
  {
   "cell_type": "code",
   "execution_count": 608,
   "metadata": {},
   "outputs": [],
   "source": [
    "max_degree=20\n",
    "n_train,n_test=100,100"
   ]
  },
  {
   "cell_type": "code",
   "execution_count": 611,
   "metadata": {},
   "outputs": [
    {
     "name": "stdout",
     "output_type": "stream",
     "text": [
      "tensor([0.1925])\n",
      "tensor([0.0000e+00, 1.9255e-01, 3.7075e-02, 7.1387e-03, 1.3746e-03, 2.6467e-04,\n",
      "        5.0962e-05, 9.8126e-06, 1.8894e-06, 3.6380e-07, 7.0050e-08, 1.3488e-08,\n",
      "        2.5971e-09, 5.0007e-10, 9.6287e-11, 1.8540e-11, 3.5699e-12, 6.8737e-13,\n",
      "        1.3235e-13, 2.5484e-14])\n"
     ]
    },
    {
     "name": "stderr",
     "output_type": "stream",
     "text": [
      "C:\\Users\\Ishan Kumar\\Anaconda3\\lib\\site-packages\\ipykernel_launcher.py:6: UserWarning: To copy construct from a tensor, it is recommended to use sourceTensor.clone().detach() or sourceTensor.clone().detach().requires_grad_(True), rather than torch.tensor(sourceTensor).\n",
      "  \n"
     ]
    }
   ],
   "source": [
    "poly_features=torch.zeros(20,200)\n",
    "true_w=torch.zeros(max_degree)\n",
    "true_w[0:4] = torch.tensor([5, 1.2, -3.4, 5.6])\n",
    "features = torch.randn(size=(n_train + n_test, 1))\n",
    "x_list=torch.arange(max_degree)\n",
    "x_list=torch.tensor(x_list, dtype=torch.float)\n",
    "features=features.reshape(1,-1)\n",
    "\n",
    "for i in range(1,max_degree):\n",
    "    \n",
    "    poly_features[i] = torch.pow(features,i)\n",
    "    \n",
    "print(features[:,4])\n",
    "print(poly_features[:,4])"
   ]
  },
  {
   "cell_type": "markdown",
   "metadata": {},
   "source": [
    "For optimization, we typically want to avoid very large values of gradients, losses, etc. This is why the monomials stored\n",
    "in poly_features are rescaled from x\n",
    "\n",
    "It allows us to avoid very large values for large exponents i. Factorials\n",
    "are implemented in Gluon using the Gamma function, where n! = Γ(n + b 1).\n",
    "Take a look at the first 2 samples from the generated data set. The value 1 is technically a feature, namely the constant\n",
    "feature corresponding to the bias"
   ]
  },
  {
   "cell_type": "code",
   "execution_count": 620,
   "metadata": {},
   "outputs": [],
   "source": [
    "from scipy.special import factorial\n",
    "ok=torch.arange(1,(max_degree) + 1).reshape((1, -1))\n",
    "\n",
    "dr=factorial(ok)\n",
    "\n",
    "dr2=torch.from_numpy(dr)\n",
    "\n",
    "poly_features = poly_features.double() /dr2.t()\n",
    "\n",
    "labels = torch.matmul(true_w.double(),poly_features)\n",
    "\n",
    "poly_features = poly_features.type(torch.FloatTensor)\n",
    "\n",
    "labels = labels.type(torch.FloatTensor)\n",
    "\n",
    "labels += torch.randn(200)*0.5\n",
    "\n"
   ]
  },
  {
   "cell_type": "markdown",
   "metadata": {},
   "source": [
    "### Defining, Training and Testing Model\n",
    "We first define the plotting functionsemilogy, where the y axis makes use of the logarithmic scale\n",
    "\n",
    "Since we will be attempting to fit the generated dataset using models of varying complexity, we insert the model definition\n",
    "into the fit_and_plot function. The training and testing steps involved in polynomial function fitting are similar to\n",
    "those previously described in softmax regression"
   ]
  },
  {
   "cell_type": "code",
   "execution_count": 605,
   "metadata": {},
   "outputs": [],
   "source": [
    "def semilogy(x_vals, y_vals, x_label, y_label, x2_vals=None, y2_vals=None,\n",
    "legend=None, figsize=(3.5, 2.5)):\n",
    "   \n",
    "    \n",
    "    plt.xlabel(x_label)\n",
    "    plt.ylabel(y_label)\n",
    "    plt.semilogy(x_vals, y_vals)\n",
    "    if x2_vals and y2_vals:\n",
    "        plt.semilogy(x2_vals, y2_vals, linestyle=':')\n",
    "        plt.legend(legend)"
   ]
  },
  {
   "cell_type": "code",
   "execution_count": 613,
   "metadata": {},
   "outputs": [],
   "source": [
    "def fit_and_plot(train_features,train_labels,test_features,test_labels,no_inputs):\n",
    "    class LinearRegressionModel(torch.nn.Module): \n",
    "  \n",
    "        def __init__(self): \n",
    "            super(LinearRegressionModel, self).__init__() \n",
    "            self.linear = torch.nn.Linear(no_inputs, 1)  \n",
    "  \n",
    "        def forward(self, x): \n",
    "            y_pred = self.linear(x) \n",
    "            return y_pred \n",
    "    \n",
    "    model = LinearRegressionModel() \n",
    "    criterion = torch.nn.MSELoss(size_average = False) \n",
    "    optimizer = torch.optim.SGD(model.parameters(), lr = 0.01)\n",
    "    train_ls,test_ls=[],[]\n",
    "\n",
    "   \n",
    "   \n",
    "   \n",
    "    train_labels=train_labels.reshape(-1,1)\n",
    "    train_ds=TensorDataset(train_features,train_labels)\n",
    "    batch_size=10\n",
    "    train_dl=DataLoader(train_ds,batch_size,shuffle=True)\n",
    "\n",
    "\n",
    "    \n",
    "    test_labels=test_labels.reshape(-1,1)\n",
    "    for ep in range(100):\n",
    "        for xb,yb in train_dl: \n",
    "  \n",
    "        \n",
    "            pred_y = model(xb) \n",
    "  \n",
    "    \n",
    "            loss = criterion(pred_y, yb) \n",
    "            \n",
    "            optimizer.zero_grad() \n",
    "            loss.backward() \n",
    "            optimizer.step()\n",
    "           \n",
    "            \n",
    "        \n",
    "        predytr=model(train_features)\n",
    "        train_ls.append((criterion(predytr,train_labels)).mean())\n",
    "        predyts=model(test_features)\n",
    "        test_ls.append((criterion(predyts,test_labels)).mean())    \n",
    "    \n",
    "    \n",
    "    print('final epoch:train loss',train_ls[-1],'test Loss',test_ls[-1])\n",
    "    semilogy(range(1,ep+2), train_ls,'epoch','loss',range(1,ep+2),test_ls,['train','test'])\n",
    "  \n",
    "\n"
   ]
  },
  {
   "cell_type": "markdown",
   "metadata": {},
   "source": [
    "### Third-order Polynomial Function Fitting (Normal)\n",
    "\n",
    "We will begin by first using a third-order polynomial function with the same order as the data generation function. The\n",
    "results show that this model’s training error rate when using the testing data set is low. The trained model parameters are\n",
    "also close to the true values w = [5, 1.2, −3.4, 5.6].\n"
   ]
  },
  {
   "cell_type": "code",
   "execution_count": 614,
   "metadata": {},
   "outputs": [
    {
     "name": "stderr",
     "output_type": "stream",
     "text": [
      "C:\\Users\\Ishan Kumar\\Anaconda3\\lib\\site-packages\\torch\\nn\\_reduction.py:49: UserWarning: size_average and reduce args will be deprecated, please use reduction='sum' instead.\n",
      "  warnings.warn(warning.format(ret))\n"
     ]
    },
    {
     "name": "stdout",
     "output_type": "stream",
     "text": [
      "final epoch:train loss tensor(21.2995, grad_fn=<MeanBackward1>) test Loss tensor(29.2273, grad_fn=<MeanBackward1>)\n"
     ]
    },
    {
     "data": {
      "image/png": "[encoded data removed]",
      "text/plain": [
       "<Figure size 432x288 with 1 Axes>"
      ]
     },
     "metadata": {},
     "output_type": "display_data"
    }
   ],
   "source": [
    "poly_features_t=poly_features.t()\n",
    "fit_and_plot(train_features=poly_features_t[:100,0:4],train_labels=labels[:100],test_features=poly_features_t[100:,0:4],test_labels=labels[100:],no_inputs=4)\n",
    "\n",
    "\n"
   ]
  },
  {
   "cell_type": "markdown",
   "metadata": {},
   "source": [
    "## Linear Function Fitting\n",
    "Let’s take another look at linear function fitting. After the decline in the early epoch, it becomes difficult to further\n",
    "decrease this model’s training error rate. After the last epoch iteration has been completed, the training error rate is\n",
    "still high. When used to fit non-linear patterns (like the third-order polynomial function here) linear models are liable to\n",
    "underfit."
   ]
  },
  {
   "cell_type": "code",
   "execution_count": 615,
   "metadata": {},
   "outputs": [
    {
     "name": "stderr",
     "output_type": "stream",
     "text": [
      "C:\\Users\\Ishan Kumar\\Anaconda3\\lib\\site-packages\\torch\\nn\\_reduction.py:49: UserWarning: size_average and reduce args will be deprecated, please use reduction='sum' instead.\n",
      "  warnings.warn(warning.format(ret))\n"
     ]
    },
    {
     "name": "stdout",
     "output_type": "stream",
     "text": [
      "final epoch:train loss tensor(70.4893, grad_fn=<MeanBackward1>) test Loss tensor(121.2219, grad_fn=<MeanBackward1>)\n"
     ]
    },
    {
     "data": {
      "image/png": "[encoded data removed]",
      "text/plain": [
       "<Figure size 432x288 with 1 Axes>"
      ]
     },
     "metadata": {},
     "output_type": "display_data"
    }
   ],
   "source": [
    "fit_and_plot(train_features=poly_features_t[:100,0:3],train_labels=labels[:100],test_features=poly_features_t[100:,0:3],test_labels=labels[100:],no_inputs=3)\n",
    "\n"
   ]
  },
  {
   "cell_type": "markdown",
   "metadata": {},
   "source": [
    "## Insufficient Training(Overfitting)\n",
    "Now let’s try to train the model using a polynomial of too high degree. Here, there is insufficient data to learn that the\n",
    "higher-degree coefficients should have values close to zero. As a result, our overly-complex model is far too susceptible\n",
    "to being influenced by noise in the training data. Of course, our training error will now be low (even lower than if we had\n",
    "the right model!) but our test error will be high.\n",
    "Try out different model complexities (n_degree) and training set sizes (n_subset) to gain some intuition of what is\n",
    "happening.\n"
   ]
  },
  {
   "cell_type": "code",
   "execution_count": 616,
   "metadata": {},
   "outputs": [
    {
     "name": "stderr",
     "output_type": "stream",
     "text": [
      "C:\\Users\\Ishan Kumar\\Anaconda3\\lib\\site-packages\\torch\\nn\\_reduction.py:49: UserWarning: size_average and reduce args will be deprecated, please use reduction='sum' instead.\n",
      "  warnings.warn(warning.format(ret))\n"
     ]
    },
    {
     "name": "stdout",
     "output_type": "stream",
     "text": [
      "final epoch:train loss tensor(20.9502, grad_fn=<MeanBackward1>) test Loss tensor(30.4011, grad_fn=<MeanBackward1>)\n"
     ]
    },
    {
     "data": {
      "image/png": "[encoded data removed]",
      "text/plain": [
       "<Figure size 432x288 with 1 Axes>"
      ]
     },
     "metadata": {},
     "output_type": "display_data"
    }
   ],
   "source": [
    "fit_and_plot(train_features=poly_features_t[1:100,0:20],train_labels=labels[1:100],test_features=poly_features_t[100:,0:20],test_labels=labels[100:],no_inputs=20)\n"
   ]
  },
  {
   "cell_type": "markdown",
   "metadata": {},
   "source": [
    "## Summary\n",
    "• Since the generalization error rate cannot be estimated based on the training error rate, simply minimizing the\n",
    "training error rate will not necessarily mean a reduction in the generalization error rate. Machine learning models\n",
    "need to be careful to safeguard against overfitting such as to minimize the generalization error.\n",
    "\n",
    "• A validation set can be used for model selection (provided that it isn’t used too liberally).\n",
    "\n",
    "• Underfitting means that the model is not able to reduce the training error rate while overfitting is a result of the\n",
    "model training error rate being much lower than the testing data set rate.\n",
    "\n",
    "• We should choose an appropriately complex model and avoid using insufficient training samples"
   ]
  },
  {
   "cell_type": "markdown",
   "metadata": {},
   "source": [
    "## Exercises\n",
    "\n",
    "1. Can you solve the polynomial regression problem exactly? Hint - use linear algebra.\n",
    "\n",
    "2. Model selection for polynomials\n",
    "    • Plot the training error vs. model complexity (degree of the polynomial). What do you observe?\n",
    "    \n",
    "    • Plot the test error in this case.\n",
    "    \n",
    "    • Generate the same graph as a function of the amount of data?\n",
    "\n",
    "3. What happens if you drop the normalization of the polynomial features x\n",
    "i by 1/i!. Can you fix this in some other\n",
    "way?\n",
    "\n",
    "4. What degree of polynomial do you need to reduce the training error to 0?"
   ]
  },
  {
   "cell_type": "code",
   "execution_count": null,
   "metadata": {},
   "outputs": [],
   "source": []
  }
 ],
 "metadata": {
  "kernelspec": {
   "display_name": "Python 3",
   "language": "python",
   "name": "python3"
  },
  "language_info": {
   "codemirror_mode": {
    "name": "ipython",
    "version": 3
   },
   "file_extension": ".py",
   "mimetype": "text/x-python",
   "name": "python",
   "nbconvert_exporter": "python",
   "pygments_lexer": "ipython3",
   "version": "3.6.5"
  }
 },
 "nbformat": 4,
 "nbformat_minor": 2
}
