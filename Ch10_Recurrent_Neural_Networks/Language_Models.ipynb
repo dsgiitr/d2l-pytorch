{
 "cells": [
  {
   "cell_type": "markdown",
   "metadata": {},
   "source": [
    "## Language Models"
   ]
  },
  {
   "cell_type": "markdown",
   "metadata": {},
   "source": [
    "Text is an important example of sequence data. In fact, we will use natural language models as the basis for many of the\n",
    "examples in this chapter. Given that, it’s worth while discussing some things in a bit more detail. In the following we will\n",
    "view words (or sequences of characters) as a time series of discrete observations. Assuming the words in a text of length\n",
    "T are in turn w<sub>1</sub>;w<sub>2</sub>; . . . ;w<sub>T</sub> , then, in the discrete time series, wt(1 < t < T) can be considered as the output or label\n",
    "of time step t. Given such a sequence,<i>the goal of a language model is to estimate the probability</i>"
   ]
  },
  {
   "cell_type": "markdown",
   "metadata": {},
   "source": [
    "$$p(w_1, w_2, \\ldots, w_T).$$"
   ]
  },
  {
   "cell_type": "markdown",
   "metadata": {},
   "source": [
    "Language models are incredibly useful. For instance, an ideal language model would be able to generate natural text just\n",
    "on its own, simply by drawing one word at a time wt ~ p(w<sub>t</sub>|w<sub>t-1</sub>; . . .w<sub>1</sub> ) Quite unlike the monkey using a typewriter,\n",
    "all text emerging from such a model would pass as natural language, e.g. English text. Furthermore, it would be sufficient\n",
    "for generating a meaningful dialog, simply by conditioning the text on previous dialog fragments. Clearly we are still\n",
    "very far from designing such a system, since it would need to understand the text rather than just generate grammatically\n",
    "sensible content."
   ]
  },
  {
   "cell_type": "markdown",
   "metadata": {},
   "source": [
    "Nonetheless language models are of great service even in their limited form. For instance, the phrases <i>‘to recognize\n",
    "speech’</i> and <i>‘to wreck a nice beach’</i> sound very similar. This can cause ambiguity in speech recognition, ambiguity that\n",
    "is easily resolved through a language model which rejects the second translation as outlandish. Likewise, in a document\n",
    "summarization algorithm it’s worth while knowing that<i> ‘dog bites man’</i> is much more frequent than <i>‘man bites dog’</i>, or that\n",
    "<i>‘let’s eat grandma’</i> is a rather disturbing statement, whereas<i> ‘let’s eat, grandma’ </i>is much more benign."
   ]
  },
  {
   "cell_type": "markdown",
   "metadata": {},
   "source": [
    "## Estimating a language model"
   ]
  },
  {
   "cell_type": "markdown",
   "metadata": {},
   "source": [
    "The obvious question is how we should model a document, or even a sequence of words. We can take recourse to the\n",
    "analysis we applied to sequence models in the previous section. Let’s start by applying basic probability rules:"
   ]
  },
  {
   "cell_type": "markdown",
   "metadata": {},
   "source": [
    "$$p(w_1, w_2, \\ldots, w_T) = \\prod_{t=1}^T p(w_t | w_1, \\ldots, w_{t-1}).$$"
   ]
  },
  {
   "cell_type": "markdown",
   "metadata": {},
   "source": [
    "For example, the probability of a text sequence containing four tokens consisting of words and punctuation would be given\n",
    "as:"
   ]
  },
  {
   "cell_type": "markdown",
   "metadata": {},
   "source": [
    "$$p(\\mathrm{Statistics}, \\mathrm{is}, \\mathrm{fun}, \\mathrm{.}) = p(\\mathrm{Statistics}) p(\\mathrm{is} | \\mathrm{Statistics}) p(\\mathrm{fun} | \\mathrm{Statistics}, \\mathrm{is}) p(\\mathrm{.} | \\mathrm{Statistics}, \\mathrm{is}, \\mathrm{fun}).$$\n",
    "\n"
   ]
  },
  {
   "cell_type": "markdown",
   "metadata": {},
   "source": [
    "In order to compute the language model, we need to calculate the probability of words and the conditional probability\n",
    "of a word given the previous few words, i.e. language model parameters. Here, we assume that the training data set is a\n",
    "large text corpus, such as all Wikipedia entries, Project Gutenberg, or all text posted online on the web. The probability\n",
    "of words can be calculated from the relative word frequency of a given word in the training data set.\n",
    "For example, p(Statistics) can be calculated as the probability of any sentence starting with the word ‘statistics’. A slightly\n",
    "less accurate approach would be to count all occurrences of the word ‘statistics’ and divide it by the total number of words\n",
    "in the corpus. This works fairly well, particularly for frequent words."
   ]
  },
  {
   "cell_type": "markdown",
   "metadata": {},
   "source": [
    "$$\\hat{p}(\\mathrm{is}|\\mathrm{Statistics}) = \\frac{n(\\mathrm{Statistics~is})}{n(\\mathrm{Statistics})}.$$"
   ]
  },
  {
   "cell_type": "markdown",
   "metadata": {},
   "source": [
    "Here n(w) and n(w;w′) are the number of occurrences of singletons and pairs of words respectively. Unfortunately,\n",
    "estimating the probability of a word pair is somewhat more difficult, since the occurrences of <I>‘Statistics is’</I> are a lot less\n",
    "frequent. In particular, for some unusual word combinations it may be tricky to find enough occurrences to get accurate\n",
    "estimates. Things take a turn for the worse for 3 word combinations and beyond. There will be many plausible 3-word\n",
    "combinations that we likely won’t see in our dataset. Unless we provide some solution to give such word combinations\n",
    "nonzero weight we will not be able to use these as a language model. If the dataset is small or if the words are very rare,\n",
    "we might not find even a single one of them."
   ]
  },
  {
   "cell_type": "markdown",
   "metadata": {},
   "source": [
    "A common strategy is to perform some form of Laplace smoothing. We already encountered this in our discussion of\n",
    "naive bayes where the solution was to add a small constant to all counts. This helps with singletons, e.g. via"
   ]
  },
  {
   "cell_type": "markdown",
   "metadata": {},
   "source": [
    "$$\\begin{aligned} \\hat{p}(w) & = \\frac{n(w) + \\epsilon_1/m}{n + \\epsilon_1} \\ \\hat{p}(w'|w) & = \\frac{n(w,w') + \\epsilon_2 \\hat{p}(w')}{n(w) + \\epsilon_2} \\ \\hat{p}(w''|w',w) & = \\frac{n(w,w',w'') + \\epsilon_3 \\hat{p}(w',w'')}{n(w,w') + \\epsilon_3} \\end{aligned}$$"
   ]
  },
  {
   "cell_type": "markdown",
   "metadata": {},
   "source": [
    "Here the coefficients ϵ<sub>i</sub >> 0 determine how much we use the estimate for a shorter sequence as a fill-in for longer ones.\n",
    "Moreover, m is the total number of words we encounter. The above is a rather primitive variant of what is Kneser-Ney\n",
    "smoothing and Bayesian Nonparametrics can accomplish. See e.g. the Sequence Memoizer of Wood et al., 2012 for more\n",
    "details of how to accomplish this. Unfortunately models like this get unwieldy rather quickly: first off, we need to store all\n",
    "counts and secondly, this entirely ignores the meaning of the words. For instance, ‘cat’ and ‘feline’ should occur in related\n",
    "contexts. Deep learning based language models are well suited to take this into account. This, it is quite difficult to adjust\n",
    "such models to additional context. Lastly, long word sequences are almost certain to be novel, hence a model that simply\n",
    "counts the frequency of previously seen word sequences is bound to perform poorly there."
   ]
  },
  {
   "cell_type": "markdown",
   "metadata": {},
   "source": [
    "## Markov Models and n-grams"
   ]
  },
  {
   "cell_type": "markdown",
   "metadata": {},
   "source": [
    "Before we discuss solutions involving deep learning we need some more terminology and concepts. Recall our discussion\n",
    "of Markov Models in the previous section. Let’s apply this to language modeling. A distribution over sequences\n",
    "satisfies the Markov property of first order if p(w<sub>t+1</sub>|w<sub>t</sub>; . . .w<sub>1</sub>) = p(w<sub>t+1</sub>|w<sub>t</sub>). Higher orders correspond to longer\n",
    "dependencies. This leads to a number of approximations that we could apply to model a sequence:"
   ]
  },
  {
   "cell_type": "markdown",
   "metadata": {},
   "source": [
    "$$ \\begin{aligned} p(w_1, w_2, w_3, w_4) &= p(w_1) p(w_2) p(w_3) p(w_4)\\  p(w_1, w_2, w_3, w_4) &= p(w_1) p(w_2 | w_1) p(w_3 | w_2) p(w_4 | w_3)\\ p(w_1, w_2, w_3, w_4) &= p(w_1) p(w_2 | w_1) p(w_3 | w_1, w_2) p(w_4 | w_2, w_3) \\end{aligned} $$"
   ]
  },
  {
   "cell_type": "markdown",
   "metadata": {},
   "source": [
    "Since they involve one, two or three terms, these are typically referred to as unigram, bigram and trigram models. In the\n",
    "following we will learn how to design better models."
   ]
  },
  {
   "cell_type": "markdown",
   "metadata": {},
   "source": [
    "## Natural Language Statistics"
   ]
  },
  {
   "cell_type": "markdown",
   "metadata": {},
   "source": [
    "Let’s see how this works on real data. To get started we load text from H.G. Wells’ Time Machine. This is a fairly small\n",
    "corpus of just over 30,000 words but for the purpose of what we want to illustrate this is just fine. More realistic document\n",
    "collections contain many billions of words. To begin, we split the document up into words and ignore punctuation and\n",
    "capitalization. While this discards some relevant information, it is useful for computing count statistics in general. Let’s\n",
    "see what the first few lines look like."
   ]
  },
  {
   "cell_type": "code",
   "execution_count": 2,
   "metadata": {},
   "outputs": [],
   "source": [
    "import sys\n",
    "sys.path.insert(0, '..')\n",
    "\n",
    "import collections\n",
    "import re"
   ]
  },
  {
   "cell_type": "code",
   "execution_count": 3,
   "metadata": {},
   "outputs": [
    {
     "name": "stdout",
     "output_type": "stream",
     "text": [
      "tokens: 13 ['the', 'time', 'traveller', 'for', 'so', 'it', 'will', 'be', 'convenient', 'to', 'speak', 'of', 'him']\n",
      "tokens: 12 ['was', 'expounding', 'a', 'recondite', 'matter', 'to', 'us', 'his', 'grey', 'eyes', 'shone', 'and']\n",
      "tokens: 11 ['twinkled', 'and', 'his', 'usually', 'pale', 'face', 'was', 'flushed', 'and', 'animated', 'the']\n",
      "tokens: 10 ['fire', 'burned', 'brightly', 'and', 'the', 'soft', 'radiance', 'of', 'the', 'incandescent']\n"
     ]
    }
   ],
   "source": [
    "with open('../data/timemachine.txt', 'r') as f:\n",
    "    lines = f.readlines()\n",
    "    raw_dataset = [re.sub('[^A-Za-z]+', ' ', st).lower().split()\n",
    "                   for st in lines]\n",
    "\n",
    "for st in raw_dataset[8:12]:\n",
    "    print('tokens:', len(st), st)"
   ]
  },
  {
   "cell_type": "markdown",
   "metadata": {},
   "source": [
    "Now we need to insert this into a word counter. This is where the <I>collections</I> datastructure comes in handy. It takes\n",
    "care of all the accounting for us."
   ]
  },
  {
   "cell_type": "code",
   "execution_count": 4,
   "metadata": {},
   "outputs": [
    {
     "name": "stdout",
     "output_type": "stream",
     "text": [
      "frequency of 'traveller': 183\n",
      "[('the', 6782), ('i', 3801), ('and', 3735), ('of', 3465), ('a', 2448), ('to', 2085), ('was', 1656), ('in', 1623), ('that', 1329), ('my', 1320)]\n"
     ]
    }
   ],
   "source": [
    "counter = collections.Counter([t for s in raw_dataset for t in s])\n",
    "print(\"frequency of 'traveller':\", counter['traveller'])\n",
    "\n",
    "print(counter.most_common(10))"
   ]
  },
  {
   "cell_type": "markdown",
   "metadata": {},
   "source": [
    "As we can see, the most popular words are actually quite boring to look at. In traditional NLP they’re often referred to\n",
    "as stopwords and thus filtered out. That said, they still carry meaning and we will use them nonetheless. However, one\n",
    "thing that is quite clear is that the word frequency decays rather rapidly. The 10th word is less than 1/\n",
    "5 as common as the\n",
    "most popular one. To get a better idea we plot the graph of word frequencies."
   ]
  },
  {
   "cell_type": "code",
   "execution_count": 5,
   "metadata": {},
   "outputs": [],
   "source": [
    "%matplotlib inline\n",
    "from matplotlib import pyplot as plt"
   ]
  },
  {
   "cell_type": "code",
   "execution_count": 6,
   "metadata": {},
   "outputs": [
    {
     "data": {
      "image/png": "[encoded data removed]",
      "text/plain": [
       "<Figure size 432x288 with 1 Axes>"
      ]
     },
     "metadata": {
      "needs_background": "light"
     },
     "output_type": "display_data"
    }
   ],
   "source": [
    "wordcounts = [count for i,count in counter.most_common()]\n",
    "plt.loglog(wordcounts);"
   ]
  },
  {
   "cell_type": "markdown",
   "metadata": {},
   "source": [
    "We’re on to something quite fundamental here - the word frequencies decay rapidly in a well defined way. After dealing\n",
    "with the first four words as exceptions (‘the’, ‘i’, ‘and’, ‘of’), all remaining words follow a straight line on a log-log plot.\n",
    "This means that words satisfy Zipf’s law which states that the item frequency is given by"
   ]
  },
  {
   "cell_type": "markdown",
   "metadata": {},
   "source": [
    "n(x) ~ (x + c)\n",
    "<sup>-a</sup> and hence log n(x) = -a log(x + c) + const:"
   ]
  },
  {
   "cell_type": "markdown",
   "metadata": {},
   "source": [
    "This should already give us pause if we want to model words by count statistics and smoothing. After all, we will significantly\n",
    "overestimate the frequency of the tail, aka the infrequent words. But what about word pairs (and trigrams and\n",
    "beyond)? Let’s see."
   ]
  },
  {
   "cell_type": "code",
   "execution_count": 8,
   "metadata": {},
   "outputs": [
    {
     "name": "stdout",
     "output_type": "stream",
     "text": [
      "Beginning of the book\n",
      " [('the', 'time'), ('time', 'machine'), ('machine', 'by'), ('by', 'h'), ('h', 'g'), ('g', 'wells'), ('wells', 'i'), ('i', 'the'), ('the', 'time'), ('time', 'traveller')]\n",
      "Most common word pairs\n",
      " [(('of', 'the'), 927), (('in', 'the'), 507), (('i', 'had'), 390), (('i', 'was'), 336), (('and', 'the'), 327), (('the', 'time'), 305), (('it', 'was'), 297), (('to', 'the'), 255), (('as', 'i'), 234), (('of', 'a'), 219)]\n"
     ]
    }
   ],
   "source": [
    "wseq = [tk for st in raw_dataset for tk in st]\n",
    "word_pairs = [pair for pair in zip(wseq[:-1], wseq[1:])]\n",
    "print('Beginning of the book\\n', word_pairs[:10])\n",
    "\n",
    "counter_pairs = collections.Counter(word_pairs)\n",
    "print('Most common word pairs\\n', counter_pairs.most_common(10))"
   ]
  },
  {
   "cell_type": "markdown",
   "metadata": {},
   "source": [
    "Two things are notable. Out of the 10 most frequent word pairs, 9 are composed of stop words and only one is relevant\n",
    "to the actual book - ‘the time’. Let’s see whether the bigram frequencies behave in the same manner as the unigram\n",
    "frequencies."
   ]
  },
  {
   "cell_type": "code",
   "execution_count": 9,
   "metadata": {},
   "outputs": [
    {
     "name": "stdout",
     "output_type": "stream",
     "text": [
      "Most common word triples\n",
      " [(('the', 'time', 'traveller'), 177), (('the', 'time', 'machine'), 89), (('the', 'medical', 'man'), 72), (('it', 'seemed', 'to'), 48), (('it', 'was', 'a'), 45), (('here', 'and', 'there'), 45), (('seemed', 'to', 'me'), 42), (('i', 'did', 'not'), 42), (('i', 'saw', 'the'), 39), (('i', 'began', 'to'), 39)]\n"
     ]
    }
   ],
   "source": [
    "word_triples = [triple for triple in zip(wseq[:-2], wseq[1:-1], wseq[2:])]\n",
    "counter_triples = collections.Counter(word_triples)\n",
    "\n",
    "print('Most common word triples\\n', counter_triples.most_common(10))"
   ]
  },
  {
   "cell_type": "code",
   "execution_count": 10,
   "metadata": {},
   "outputs": [
    {
     "data": {
      "image/png": "[encoded data removed]",
      "text/plain": [
       "<Figure size 432x288 with 1 Axes>"
      ]
     },
     "metadata": {
      "needs_background": "light"
     },
     "output_type": "display_data"
    }
   ],
   "source": [
    "bigramcounts = [count for _,count in counter_pairs.most_common()]\n",
    "triplecounts = [count for _,count in counter_triples.most_common()]\n",
    "plt.loglog(wordcounts, label='word counts');\n",
    "plt.loglog(bigramcounts, label='bigram counts');\n",
    "plt.loglog(triplecounts, label='triple counts');\n",
    "plt.legend();"
   ]
  },
  {
   "cell_type": "markdown",
   "metadata": {},
   "source": [
    "The graph is quite exciting for a number of reasons. Firstly, beyond words, also sequences of words appear to be following\n",
    "Zipf’s law, albeit with a lower exponent, depending on sequence length. Secondly, the number of distinct n-grams is not\n",
    "that large. This gives us hope that there is quite a lot of structure in language. Third, many n-grams occur very rarely,\n",
    "which makes Laplace smoothing rather unsuitable for language modeling. Instead, we will use deep learning based models."
   ]
  },
  {
   "cell_type": "markdown",
   "metadata": {},
   "source": [
    "## Summary"
   ]
  },
  {
   "cell_type": "markdown",
   "metadata": {},
   "source": [
    "* Language models are an important technology for natural language processing.\n",
    "* n-grams provide a convenient model for dealing with long sequences by truncating the dependence.\n",
    "* Long sequences suffer from the problem that they occur very rarely or never. This requires smoothing, e.g. via\n",
    "Bayesian Nonparametrics or alternatively via deep learning.\n",
    "* Zipf’s law governs the word distribution for both unigrams and n-grams.\n",
    "* There’s a lot of structure but not enough frequency to deal with infrequent word combinations efficiently via smoothing."
   ]
  },
  {
   "cell_type": "markdown",
   "metadata": {},
   "source": [
    "## Exercises"
   ]
  },
  {
   "cell_type": "markdown",
   "metadata": {},
   "source": [
    "1. Suppose there are 100,000 words in the training data set. How many word frequencies and multi-word adjacent\n",
    "frequencies does a four-gram need to store?\n",
    "2. Review the smoothed probability estimates. Why are they not accurate? Hint - we are dealing with a contiguous\n",
    "sequence rather than singletons.\n",
    "3. How would you model a dialogue?\n",
    "4. Estimate the exponent of Zipf’s law for unigrams, bigrams and trigrams."
   ]
  }
 ],
 "metadata": {
  "kernelspec": {
   "display_name": "Python 3",
   "language": "python",
   "name": "python3"
  },
  "language_info": {
   "codemirror_mode": {
    "name": "ipython",
    "version": 3
   },
   "file_extension": ".py",
   "mimetype": "text/x-python",
   "name": "python",
   "nbconvert_exporter": "python",
   "pygments_lexer": "ipython3",
   "version": "3.7.1"
  }
 },
 "nbformat": 4,
 "nbformat_minor": 2
}
