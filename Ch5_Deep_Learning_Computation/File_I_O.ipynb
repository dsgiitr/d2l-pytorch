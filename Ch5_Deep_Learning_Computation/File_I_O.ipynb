{
  "nbformat": 4,
  "nbformat_minor": 0,
  "metadata": {
    "colab": {
      "name": "5.5 File I/O.ipynb",
      "version": "0.3.2",
      "provenance": [],
      "collapsed_sections": [],
      "toc_visible": true
    },
    "kernelspec": {
      "name": "python3",
      "display_name": "Python 3"
    }
  },
  "cells": [
    {
      "cell_type": "markdown",
      "metadata": {
        "id": "PAyVU6IyfFxV",
        "colab_type": "text"
      },
      "source": [
        "#5.5 File I/O"
      ]
    },
    {
      "cell_type": "markdown",
      "metadata": {
        "id": "4efDuMFsfLEj",
        "colab_type": "text"
      },
      "source": [
        "So far we discussed how to process data, how to build, train and test deep learning models. However, at\n",
        "some point we are likely happy with what we obtained and we want to save the results for later use and\n",
        "distribution. Likewise, when running a long training process it is best practice to save intermediate results\n",
        "(checkpointing) to ensure that we don’t lose several days worth of computation when tripping over the\n",
        "power cord of our server. At the same time, we might want to load a pretrained model (e.g. we might\n",
        "have word embeddings for English and use it for our fancy spam classifier). For all of these cases we need\n",
        "to load and store both individual weight vectors and entire models. This section addresses both issues."
      ]
    },
    {
      "cell_type": "markdown",
      "metadata": {
        "id": "9bRyFUUDffXo",
        "colab_type": "text"
      },
      "source": [
        "#5.5.1 Tensors"
      ]
    },
    {
      "cell_type": "markdown",
      "metadata": {
        "id": "pKOLpkFAffOF",
        "colab_type": "text"
      },
      "source": [
        "In its simplest form, we can directly use the save and load functions to store and read tensors\n",
        "separately. This works just as expected.\n"
      ]
    },
    {
      "cell_type": "code",
      "metadata": {
        "id": "Zh_5bTwnfO6h",
        "colab_type": "code",
        "colab": {}
      },
      "source": [
        "import torch\n",
        "from torch import nn\n",
        "x=torch.arange(4,dtype = torch.float32)\n",
        "torch.save(x,\"x-file\")"
      ],
      "execution_count": 0,
      "outputs": []
    },
    {
      "cell_type": "markdown",
      "metadata": {
        "id": "fI9OUXvVjjCP",
        "colab_type": "text"
      },
      "source": [
        "Then, we read the data from the stored file back into memory."
      ]
    },
    {
      "cell_type": "code",
      "metadata": {
        "id": "6487HO2WgD_y",
        "colab_type": "code",
        "outputId": "e90bc549-a70f-4fdc-f6e0-6112aa7e5b29",
        "colab": {
          "base_uri": "https://localhost:8080/",
          "height": 33
        }
      },
      "source": [
        "x2 = torch.load(\"x-file\")\n",
        "x2"
      ],
      "execution_count": 10,
      "outputs": [
        {
          "output_type": "execute_result",
          "data": {
            "text/plain": [
              "tensor([0., 1., 2., 3.])"
            ]
          },
          "metadata": {
            "tags": []
          },
          "execution_count": 10
        }
      ]
    },
    {
      "cell_type": "markdown",
      "metadata": {
        "id": "sB2lwzw1mvGM",
        "colab_type": "text"
      },
      "source": [
        "We can also store a list of tensors and read them back into memory.\n"
      ]
    },
    {
      "cell_type": "code",
      "metadata": {
        "id": "FdcWhmNIgyRz",
        "colab_type": "code",
        "outputId": "19ea5bdd-ddf1-4a91-dcf8-f327751a1248",
        "colab": {
          "base_uri": "https://localhost:8080/",
          "height": 33
        }
      },
      "source": [
        "y = torch.zeros(4)\n",
        "torch.save([x, y],'x-files')\n",
        "x2, y2 = torch.load('x-files')\n",
        "(x2, y2)"
      ],
      "execution_count": 11,
      "outputs": [
        {
          "output_type": "execute_result",
          "data": {
            "text/plain": [
              "(tensor([0., 1., 2., 3.]), tensor([0., 0., 0., 0.]))"
            ]
          },
          "metadata": {
            "tags": []
          },
          "execution_count": 11
        }
      ]
    },
    {
      "cell_type": "markdown",
      "metadata": {
        "id": "0uDaToApm-Cu",
        "colab_type": "text"
      },
      "source": [
        "We can even write and read a dictionary that maps from a string to an tensors. This is convenient, for\n",
        "instance when we want to read or write all the weights in a model."
      ]
    },
    {
      "cell_type": "code",
      "metadata": {
        "id": "0gePUCmzm31U",
        "colab_type": "code",
        "outputId": "8263565d-23ef-41d8-a071-b6ec86ac3b96",
        "colab": {
          "base_uri": "https://localhost:8080/",
          "height": 33
        }
      },
      "source": [
        "mydict = {'x': x, 'y': y}\n",
        "torch.save( mydict,'mydict')\n",
        "mydict2 = torch.load('mydict')\n",
        "mydict2"
      ],
      "execution_count": 12,
      "outputs": [
        {
          "output_type": "execute_result",
          "data": {
            "text/plain": [
              "{'x': tensor([0., 1., 2., 3.]), 'y': tensor([0., 0., 0., 0.])}"
            ]
          },
          "metadata": {
            "tags": []
          },
          "execution_count": 12
        }
      ]
    },
    {
      "cell_type": "markdown",
      "metadata": {
        "id": "BFkBzZ8snFZH",
        "colab_type": "text"
      },
      "source": [
        "#5.5.2 Torch Model Parameters"
      ]
    },
    {
      "cell_type": "markdown",
      "metadata": {
        "id": "ONg_f6cnnANf",
        "colab_type": "text"
      },
      "source": [
        "Saving individual weight vectors (or other  tensors) is useful but it gets very tedious if we want\n",
        "to save (and later load) an entire model. After all, we might have hundreds of parameter groups sprinkled\n",
        "throughout. Writing a script that collects all the terms and matches them to an architecture is quite some\n",
        "work. For this reason torch provides built-in functionality to load and save entire networks rather than\n",
        "just single weight vectors. An important detail to note is that this saves model parameters and not the\n",
        "entire model. I.e. if we have a 3 layer MLP we need to specify the architecture separately. The reason\n",
        "for this is that the models themselves can contain arbitrary code, hence they cannot be serialized quite so\n",
        "easily (there is a way to do this for compiled models - please refer to the torch documentation for the\n",
        "technical details on it). The result is that in order to reinstate a model we need to generate the architecture\n",
        "in code and then load the parameters from disk. The deferred initialization is quite advantageous here\n",
        "since we can simply define a model without the need to put actual values in place. Let’s start with our\n",
        "favorite MLP.\n"
      ]
    },
    {
      "cell_type": "code",
      "metadata": {
        "id": "UN7t8z1LnbeX",
        "colab_type": "code",
        "colab": {}
      },
      "source": [
        "class MLP(nn.Module):\n",
        "    def __init__(self):\n",
        "                super().__init__()\n",
        "                self.hidden = nn.Linear(20, 256)\n",
        "                self.output = nn.Linear(256, 10)\n",
        "                self.relu = nn.ReLU()\n",
        "    def forward(self, x):\n",
        "        H_1 = self.relu(self.hidden(x))\n",
        "        out = self.output(H_1)\n",
        "        return out\n",
        "    \n",
        "\n",
        "net = MLP()\n",
        "x = torch.randn(size=(2, 20))\n",
        "y = net(x)"
      ],
      "execution_count": 0,
      "outputs": []
    },
    {
      "cell_type": "markdown",
      "metadata": {
        "id": "CcVEW3Mmu0yQ",
        "colab_type": "text"
      },
      "source": [
        "Next, we store the parameters of the model as a file with the name mlp.params’"
      ]
    },
    {
      "cell_type": "code",
      "metadata": {
        "id": "hXJ7Tfavtz6v",
        "colab_type": "code",
        "colab": {}
      },
      "source": [
        "torch.save(net.state_dict(), 'mlp.params')\n",
        "\n"
      ],
      "execution_count": 0,
      "outputs": []
    },
    {
      "cell_type": "markdown",
      "metadata": {
        "id": "FH2BcGybu-p-",
        "colab_type": "text"
      },
      "source": [
        "To check whether we are able to recover the model we instantiate a clone of the original MLP model.\n",
        "Unlike the random initialization of model parameters, here we read the parameters stored in the file directly."
      ]
    },
    {
      "cell_type": "code",
      "metadata": {
        "id": "raqKzxuPu6hl",
        "colab_type": "code",
        "outputId": "6f375310-443d-4ec0-eb41-a4ccdd714c0b",
        "colab": {
          "base_uri": "https://localhost:8080/",
          "height": 100
        }
      },
      "source": [
        "clone = MLP()\n",
        "clone.load_state_dict(torch.load(\"mlp.params\"))\n",
        "clone.eval()"
      ],
      "execution_count": 16,
      "outputs": [
        {
          "output_type": "execute_result",
          "data": {
            "text/plain": [
              "MLP(\n",
              "  (hidden): Linear(in_features=20, out_features=256, bias=True)\n",
              "  (output): Linear(in_features=256, out_features=10, bias=True)\n",
              "  (relu): ReLU()\n",
              ")"
            ]
          },
          "metadata": {
            "tags": []
          },
          "execution_count": 16
        }
      ]
    },
    {
      "cell_type": "markdown",
      "metadata": {
        "id": "9oOuYdZEvHv9",
        "colab_type": "text"
      },
      "source": [
        "Since both instances have the same model parameters, the computation result of the same input x should\n",
        "be the same. Let’s verify this."
      ]
    },
    {
      "cell_type": "code",
      "metadata": {
        "id": "n0ZofYiZvFZ6",
        "colab_type": "code",
        "outputId": "28598831-4b1d-444e-d9f0-a0364061dd64",
        "colab": {
          "base_uri": "https://localhost:8080/",
          "height": 50
        }
      },
      "source": [
        "yclone = clone(x)\n",
        "yclone == y"
      ],
      "execution_count": 17,
      "outputs": [
        {
          "output_type": "execute_result",
          "data": {
            "text/plain": [
              "tensor([[1, 1, 1, 1, 1, 1, 1, 1, 1, 1],\n",
              "        [1, 1, 1, 1, 1, 1, 1, 1, 1, 1]], dtype=torch.uint8)"
            ]
          },
          "metadata": {
            "tags": []
          },
          "execution_count": 17
        }
      ]
    },
    {
      "cell_type": "markdown",
      "metadata": {
        "id": "cYXaHhYvvNCW",
        "colab_type": "text"
      },
      "source": [
        "#Summary\n",
        "• The save and load functions can be used to perform File I/O for tensors objects.\n",
        "• The load_parameters and save_parameters functions allow us to save entire sets of\n",
        "parameters for a network in torch.\n",
        "• Saving the architecture has to be done in code rather than in parameters.\n",
        "#Exercises\n",
        "1. Even if there is no need to deploy trained models to a different device, what are the practical benefits\n",
        "of storing model parameters?\n",
        "2. Assume that we want to reuse only parts of a network to be incorporated into a network of a different\n",
        "architecture. How would you go about using, say the first two layers from a previous network in a\n",
        "new network.\n",
        "3. How would you go about saving network architecture and parameters? What restrictions would\n",
        "you impose on the architecture?\n"
      ]
    }
  ]
}