{
 "cells": [
  {
   "cell_type": "markdown",
   "metadata": {
    "colab_type": "text",
    "id": "URIrp2LvLUBC"
   },
   "source": [
    "# Batch Normalization\n",
    "\n",
    "\n",
    "Training deep models is difficult and getting them \n",
    "to converge in a reasonable amount of time can be tricky.\n",
    "In this section, we describe batch normalization,\n",
    "one popular and effective technique \n",
    "that has been found to accelerate the convergence of deep nets\n",
    "and ([together with residual blocks, which we cover next](resnet.md)) \n",
    "has recently enabled practitioners \n",
    "to routinely train networks with over 100 layers.\n",
    "\n",
    "## Training Deep Networks\n",
    "\n",
    "Let's review some of the practical challenges when training deep networks.\n",
    "\n",
    "1. Data preprocessing often proves to be a crucial consideration for effective statistical modeling. Recall our application of deep networks to [predicting house prices](../chapter_deep-learning-basics/kaggle-house-price.md). In that example, we standardized our input features to each have a mean of *zero* and variance of *one*. Standardizing input data typically makes it easier to train models since parameters are a-priori at a similar scale.\n",
    "1. For a typical MLP or CNN, as we train the model, the activations in intermediate layers of the network may assume different orders of magnitude (both across nodes in the same layer, and over time due to updating the model's parameters). The authors of the batch normalization technique postulated that this drift in the distribution of activations could hamper the convergence of the network. Intuitively, we might conjecture that if one layer has activation values that are 100x that of another layer, we might need to adjust learning rates adaptively per layer (or even per node within a layer).\n",
    "1. Deeper networks are complex and easily capable of overfitting. This means that regularization becomes more critical. Empirically, we note that even with dropout, models can overfit badly and we might benefit from other regularization heuristics.\n",
    "\n",
    "In 2015, [Ioffe and Szegedy introduced Batch Normalization (BN)](https://arxiv.org/abs/1502.03167), a clever heuristic\n",
    "that has proved immensely useful for improving the reliability\n",
    "and speed of convergence when training deep models. \n",
    "In each training iteration, BN normalizes \n",
    "the activations of each hidden layer node \n",
    "(on each layer where it is applied)\n",
    "by subtracting its mean and dividing by its standard deviation,\n",
    "estimating both based on the current minibatch.\n",
    "Note that if our batch size was $1$, \n",
    "we wouldn't be able to learn anything\n",
    "because during training, every hidden node would take value $0$.\n",
    "However, with large enough minibatches,\n",
    "the approach proves effective and stable.\n",
    "\n",
    "\n",
    "In a nutshell, the idea in Batch Normalization is \n",
    "to transform the activation at a given layer from $\\mathbf{x}$ to\n",
    "\n",
    "$$\\mathrm{BN}(\\mathbf{x}) = \\mathbf{\\gamma} \\odot \\frac{\\mathbf{x} - \\hat{\\mathbf{\\mu}}}{\\hat\\sigma} + \\mathbf{\\beta}$$\n",
    "\n",
    "Here, $\\hat{\\mathbf{\\mu}}$ is the estimate of the mean \n",
    "and $\\hat{\\mathbf{\\sigma}}$ is the estimate of the variance. \n",
    "The result is that the activations are approximately rescaled \n",
    "to zero mean and unit variance. \n",
    "Since this may not be quite what we want, \n",
    "we allow for a coordinate-wise scaling coefficient $\\mathbf{\\gamma}$ \n",
    "and an offset $\\mathbf{\\beta}$. \n",
    "Consequently, the activations for intermediate layers \n",
    "cannot diverge any longer: we are actively rescaling them back \n",
    "to a given order of magnitude via $\\mathbf{\\mu}$ and $\\sigma$. \n",
    "Intuitively, it is hoped that this normalization allows us\n",
    "to be more aggressive in picking large learning rates. \n",
    "To address the fact that in some cases the activations \n",
    "may actually *need* to differ from standardized data, \n",
    "BN also introduces scaling coefficients $\\mathbf{\\gamma}$ \n",
    "and an offset $\\mathbf{\\beta}$.\n",
    "\n",
    "In principle, we might want to use all of our training data \n",
    "to estimate the mean and variance. \n",
    "However, the activations correpsonding to each example\n",
    "change each time we update our model. \n",
    "To remedy this problem, BN uses only the current minibatch \n",
    "for estimating $\\hat{\\mathbf{\\mu}}$ and $\\hat\\sigma$. \n",
    "It is precisely due to this fact \n",
    "that we normalize based only on the *currect batch*\n",
    "that *batch normalization* derives its name. \n",
    "To indicate which minibatch $\\mathcal{B}$ we draw this from, \n",
    "we denote the quantities with $\\hat{\\mathbf{\\mu}}_\\mathcal{B}$ \n",
    "and $\\hat\\sigma_\\mathcal{B}$.\n",
    "\n",
    "$$\\hat{\\mathbf{\\mu}}_\\mathcal{B} \\leftarrow \\frac{1}{|\\mathcal{B}|} \\sum_{\\mathbf{x} \\in \\mathcal{B}} \\mathbf{x}\n",
    "\\text{ and }\n",
    "\\hat{\\mathbf{\\sigma}}_\\mathcal{B}^2 \\leftarrow \\frac{1}{|\\mathcal{B}|} \\sum_{\\mathbf{x} \\in \\mathcal{B}} (\\mathbf{x} - \\mathbf{\\mu}_{\\mathcal{B}})^2 + \\epsilon$$\n",
    "\n",
    "Note that we add a small constant $\\epsilon > 0$ to the variance estimate \n",
    "to ensure that we never end up dividing by zero, \n",
    "even in cases where the empirical variance estimate might vanish by accident.\n",
    "The estimates $\\hat{\\mathbf{\\mu}}_\\mathcal{B}$ \n",
    "and $\\hat{\\mathbf{\\sigma}}_\\mathcal{B}$ counteract the scaling issue \n",
    "by using unbiased but noisy estimates of mean and variance. \n",
    "Normally we would consider this a problem. \n",
    "After all, each minibatch has different data, \n",
    "different labels and with it, different activations, predictions and errors. As it turns out, this is actually beneficial. \n",
    "This natural variation appears to act as a form of regularization,\n",
    "conferring benefits (as observed empirically) in mitigating overfitting. \n",
    "In other recent preliminary research, [Teye, Azizpour and Smith, 2018](https://arxiv.org/pdf/1802.06455.pdf) and [Luo et al, 2018](https://arxiv.org/pdf/1809.00846.pdf) relate the properties of BN\n",
    "to Bayesian Priors and penalties respectively. \n",
    "In particular, this sheds some light on the puzzle why BN works best \n",
    "for moderate sizes of minibatches in the range 50-100.\n",
    "\n",
    "We are now ready to take a look at how batch normalization works in practice.\n",
    "\n",
    "\n",
    "## Batch Normalization Layers\n",
    "\n",
    "The batch normalization methods for fully-connected layers \n",
    "and convolutional layers are slightly different. \n",
    "This is due to the dimensionality of the data \n",
    "generated by convolutional layers. \n",
    "We discuss both cases below. \n",
    "Note that one of the key differences between BN and other layers \n",
    "is that BN operates on a a full minibatch at a time \n",
    "(otherwise it cannot compute the mean and variance parameters per batch).\n",
    "\n",
    "### Fully-Connected Layers\n",
    "\n",
    "Usually we apply the batch normalization layer \n",
    "between the affine transformation and the activation function \n",
    "in a fully-connected layer. \n",
    "In the following, we denote by $\\mathbf{u}$ the input \n",
    "and by $\\mathbf{x} = \\mathbf{W}\\mathbf{u} + \\mathbf{b}$ the output \n",
    "of the linear transform. \n",
    "This yields the following variant of BN:\n",
    "\n",
    "$$\\mathbf{y} = \\phi(\\mathrm{BN}(\\mathbf{x})) =  \\phi(\\mathrm{BN}(\\mathbf{W}\\mathbf{u} + \\mathbf{b}))$$\n",
    "\n",
    "Recall that mean and variance are computed \n",
    "on the *same* minibatch $\\mathcal{B}$ \n",
    "on which the transformation is applied. \n",
    "Also recall that the scaling coefficient $\\mathbf{\\gamma}$ \n",
    "and the offset $\\mathbf{\\beta}$ are parameters that need to be learned. \n",
    "They ensure that the effect of batch normalization \n",
    "can be neutralized as needed.\n",
    "\n",
    "### Convolutional Layers\n",
    "\n",
    "For convolutional layers, batch normalization occurs \n",
    "after the convolution computation \n",
    "and before the application of the activation function. \n",
    "If the convolution computation outputs multiple channels, \n",
    "we need to carry out batch normalization \n",
    "for *each* of the outputs of these channels, \n",
    "and each channel has an independent scale parameter and shift parameter, \n",
    "both of which are scalars. \n",
    "Assume that there are $m$ examples in the mini-batch. \n",
    "On a single channel, we assume that the height and width \n",
    "of the convolution computation output are $p$ and $q$, respectively. \n",
    "We need to carry out batch normalization \n",
    "for $m \\times p \\times q$ elements in this channel simultaneously. \n",
    "While carrying out the standardization computation for these elements, \n",
    "we use the same mean and variance. \n",
    "In other words, we use the means and variances of the $m \\times p \\times q$ elements in this channel rather than one per pixel.\n",
    "\n",
    "\n",
    "### Batch Normalization During Prediction\n",
    "\n",
    "At prediction time, we might not have the luxury \n",
    "of computing offsets per batch—we \n",
    "might be required to make one prediction at a time. \n",
    "Secondly, the uncertainty in $\\mathbf{\\mu}$ and $\\mathbf{\\sigma}$, \n",
    "as arising from a minibatch are undesirable once we've trained the model. \n",
    "One way to mitigate this is to compute more stable estimates \n",
    "on a larger set for once (e.g. via a moving average) \n",
    "and then fix them at prediction time. \n",
    "Consequently, BN behaves differently during training and at test time \n",
    "(recall that dropout also behaves differently at train and test times).\n",
    "\n",
    "## Implementation from Scratch\n",
    "\n",
    "Next, we will implement the batch normalization layer with `torch.Tensor` from scratch:"
   ]
  },
  {
   "cell_type": "code",
   "execution_count": 0,
   "metadata": {
    "attributes": {
     "classes": [],
     "id": "",
     "n": "72"
    },
    "colab": {},
    "colab_type": "code",
    "id": "i8d_Vr1ZLUBL"
   },
   "outputs": [],
   "source": [
    "import sys\n",
    "sys.path.insert(0, '..')\n",
    "\n",
    "import d2l\n",
    "import torch\n",
    "import torch.nn as nn\n",
    "\n",
    "def batch_norm(X, gamma, beta, moving_mean, moving_var, eps, momentum):\n",
    "    # Use torch.is_grad_enabled() to determine whether the current mode is training mode or\n",
    "    # prediction mode\n",
    "    if not torch.is_grad_enabled():\n",
    "        # If it is the prediction mode, directly use the mean and variance\n",
    "        # obtained from the incoming moving average\n",
    "        X_hat = (X - moving_mean) / torch.sqrt(moving_var + eps)\n",
    "    else:\n",
    "        assert len(X.shape) in (2, 4)\n",
    "        if len(X.shape) == 2:\n",
    "            # When using a fully connected layer, calculate the mean and\n",
    "            # variance on the feature dimension\n",
    "            mean = X.mean(dim=0)\n",
    "            var = ((X - mean) ** 2).mean(dim=0)\n",
    "        else:\n",
    "            # When using a two-dimensional convolutional layer, calculate the\n",
    "            # mean and variance on the channel dimension (axis=1). Here we\n",
    "            # need to maintain the shape of X, so that the broadcast operation\n",
    "            # can be carried out later\n",
    "            mean = X.mean(dim=(0, 2, 3), keepdim=True)\n",
    "            var = ((X - mean) ** 2).mean(dim=(0, 2, 3), keepdim=True)\n",
    "        # In training mode, the current mean and variance are used for the\n",
    "        # standardization\n",
    "        X_hat = (X - mean) / torch.sqrt(var + eps)\n",
    "        # Update the mean and variance of the moving average\n",
    "        moving_mean = momentum * moving_mean + (1.0 - momentum) * mean\n",
    "        moving_var = momentum * moving_var + (1.0 - momentum) * var\n",
    "    Y = gamma * X_hat + beta  # Scale and shift\n",
    "    return Y, moving_mean, moving_var"
   ]
  },
  {
   "cell_type": "markdown",
   "metadata": {
    "colab_type": "text",
    "id": "rjT-NFZ3LUBO"
   },
   "source": [
    "Now, we can customize a `BatchNorm` layer. \n",
    "This retains the scale parameter `gamma` \n",
    "and the shift parameter `beta` \n",
    "involved in gradient finding and iteration, \n",
    "and it also maintains the mean and variance \n",
    "obtained from the moving average, \n",
    "so that they can be used during model prediction. \n",
    "The `num_features` parameter required by the `BatchNorm` instance \n",
    "is the number of outputs for a fully-connected layer \n",
    "and the number of output channels for a convolutional layer. \n",
    "The `num_dims` parameter also required by this instance \n",
    "is 2 for a fully-connected layer and 4 for a convolutional layer.\n",
    "\n",
    "Besides the algorithm per se, also note \n",
    "the design pattern in implementing layers. \n",
    "Typically one defines the math in a separate function, say `batch_norm`. \n",
    "This is then integrated into a custom layer \n",
    "that mostly focuses on bookkeeping, \n",
    "such as moving data to the right device context, \n",
    "ensuring that variables are properly initialized, \n",
    "keeping track of the running averages for mean and variance, etc.\n",
    "That way we achieve a clean separation of math and boilerplate code. \n",
    "We have to specify the number of features throughout."
   ]
  },
  {
   "cell_type": "code",
   "execution_count": 0,
   "metadata": {
    "attributes": {
     "classes": [],
     "id": "",
     "n": "73"
    },
    "colab": {},
    "colab_type": "code",
    "id": "pAfkB1hzLUBP"
   },
   "outputs": [],
   "source": [
    "class BatchNorm(nn.Module):\n",
    "    def __init__(self, num_features, num_dims, **kwargs):\n",
    "        super(BatchNorm, self).__init__(**kwargs)\n",
    "        if num_dims == 2:\n",
    "            shape = (1, num_features)\n",
    "        else:\n",
    "            shape = (1, num_features, 1, 1)\n",
    "        # The scale parameter and the shift parameter involved in gradient\n",
    "        # finding and iteration are initialized to 0 and 1 respectively\n",
    "        self.gamma = nn.Parameter(torch.ones(shape))\n",
    "        self.beta = nn.Parameter(torch.zeros(shape))\n",
    "        # All the variables not involved in gradient finding and iteration are\n",
    "        # initialized to 0 on the CPU\n",
    "        self.moving_mean = torch.zeros(shape)\n",
    "        self.moving_var = torch.zeros(shape)\n",
    "\n",
    "    def forward(self, X):\n",
    "        # If X is not on the CPU, copy moving_mean and moving_var to the\n",
    "        # device where X is located\n",
    "        if self.moving_mean.device != X.device:\n",
    "            self.moving_mean = self.moving_mean.to(X.device)\n",
    "            self.moving_var = self.moving_var.to(X.device)\n",
    "        # Save the updated moving_mean and moving_var\n",
    "        Y, self.moving_mean, self.moving_var = batch_norm(\n",
    "            X, self.gamma, self.beta, self.moving_mean,\n",
    "            self.moving_var, eps=1e-5, momentum=0.9)\n",
    "        return Y"
   ]
  },
  {
   "cell_type": "markdown",
   "metadata": {
    "colab_type": "text",
    "id": "07IHSUhcLUBS"
   },
   "source": [
    "## Use a Batch Normalization LeNet\n",
    "\n",
    "Next, we will modify the LeNet model\n",
    "in order to apply the batch normalization layer. \n",
    "We add the batch normalization layer \n",
    "after all the convolutional layers and after all fully-connected layers. \n",
    "As discussed, we add it  before the activation layer."
   ]
  },
  {
   "cell_type": "code",
   "execution_count": 0,
   "metadata": {
    "attributes": {
     "classes": [],
     "id": "",
     "n": "74"
    },
    "colab": {},
    "colab_type": "code",
    "id": "kOiDw8IVLUBT"
   },
   "outputs": [],
   "source": [
    "class Flatten(nn.Module):\n",
    "    def forward(self, input):\n",
    "        return input.view(input.size(0), -1)\n",
    "\n",
    "net = nn.Sequential(nn.Conv2d(1, 6, kernel_size=5),\n",
    "                    BatchNorm(6, num_dims=4),\n",
    "                    nn.Sigmoid(),\n",
    "                    nn.MaxPool2d(kernel_size=2, stride=2),\n",
    "                    nn.Conv2d(6, 16, kernel_size=5),\n",
    "                    BatchNorm(16, num_dims=4),\n",
    "                    nn.Sigmoid(),\n",
    "                    nn.MaxPool2d(kernel_size=2, stride=2),\n",
    "                    Flatten(),\n",
    "                    nn.Linear(16*4*4, 120),\n",
    "                    BatchNorm(120, num_dims=2),\n",
    "                    nn.Sigmoid(),\n",
    "                    nn.Linear(120, 84),\n",
    "                    BatchNorm(84, num_dims=2),\n",
    "                    nn.Sigmoid(),\n",
    "                    nn.Linear(84, 10))"
   ]
  },
  {
   "cell_type": "markdown",
   "metadata": {
    "colab_type": "text",
    "id": "n9jihkMwLUBV"
   },
   "source": [
    "Next we train the modified model, again on Fashion-MNIST. \n",
    "The code is virtually identical to that in previous steps. \n",
    "The main difference is the considerably larger learning rate."
   ]
  },
  {
   "cell_type": "code",
   "execution_count": 41,
   "metadata": {
    "attributes": {
     "classes": [],
     "id": "",
     "n": "77"
    },
    "colab": {
     "base_uri": "https://localhost:8080/",
     "height": 119
    },
    "colab_type": "code",
    "id": "BoLK1xJ7LUBW",
    "outputId": "d2cacb3f-b78e-4956-a721-cd704b7f485d"
   },
   "outputs": [
    {
     "name": "stdout",
     "output_type": "stream",
     "text": [
      "training on cuda:0\n",
      "epoch 1, loss 0.0025, train acc 0.774, test acc 0.793, time 5.5 sec\n",
      "epoch 2, loss 0.0016, train acc 0.857, test acc 0.773, time 6.0 sec\n",
      "epoch 3, loss 0.0013, train acc 0.875, test acc 0.801, time 6.0 sec\n",
      "epoch 4, loss 0.0012, train acc 0.887, test acc 0.860, time 6.0 sec\n",
      "epoch 5, loss 0.0012, train acc 0.892, test acc 0.756, time 6.0 sec\n"
     ]
    }
   ],
   "source": [
    "lr, num_epochs, batch_size, device = 1, 5, 256, d2l.try_gpu()\n",
    "\n",
    "#Initialization of Weights\n",
    "def init_weights(m):\n",
    "    if type(m) == nn.Linear or type(m) == nn.Conv2d:\n",
    "        torch.nn.init.xavier_uniform_(m.weight)\n",
    "\n",
    "net.apply(init_weights)\n",
    "\n",
    "criterion = nn.CrossEntropyLoss()\n",
    "\n",
    "train_iter, test_iter = d2l.load_data_fashion_mnist(batch_size)\n",
    "\n",
    "d2l.train_ch5(net, train_iter, test_iter, criterion, num_epochs, batch_size, device, lr)"
   ]
  },
  {
   "cell_type": "markdown",
   "metadata": {
    "colab_type": "text",
    "id": "N3H5D7QJLUBb"
   },
   "source": [
    "Let's have a look at the scale parameter `gamma` \n",
    "and the shift parameter `beta` learned \n",
    "from the first batch normalization layer."
   ]
  },
  {
   "cell_type": "code",
   "execution_count": 42,
   "metadata": {
    "attributes": {
     "classes": [],
     "id": "",
     "n": "60"
    },
    "colab": {
     "base_uri": "https://localhost:8080/",
     "height": 85
    },
    "colab_type": "code",
    "id": "waMVaeg9LUBc",
    "outputId": "084f1afa-d494-4ee9-d978-b52fc01e24cf"
   },
   "outputs": [
    {
     "data": {
      "text/plain": [
       "(tensor([1.4549, 1.4376, 1.4965, 1.1235, 1.5636, 2.4128], device='cuda:0',\n",
       "        grad_fn=<AsStridedBackward>),\n",
       " tensor([-0.6665,  0.8697, -1.3979, -0.6235, -0.6214,  0.0168], device='cuda:0',\n",
       "        grad_fn=<AsStridedBackward>))"
      ]
     },
     "execution_count": 42,
     "metadata": {
      "tags": []
     },
     "output_type": "execute_result"
    }
   ],
   "source": [
    "list(net.children())[1].gamma.reshape((-1,)), list(net.children())[1].beta.reshape((-1,))"
   ]
  },
  {
   "cell_type": "markdown",
   "metadata": {
    "colab_type": "text",
    "id": "aOsUnpzWLUBg"
   },
   "source": [
    "## Concise Implementation\n",
    "\n",
    "Compared with the `BatchNorm` class, which we just defined ourselves, \n",
    "the `_BatchNorm` class defined by the `nn.modules.batchnorm` model in Pytorch is easier to use. \n",
    "We have `nn.BatchNorm1d` and `nn.BatchNorm2d` for num_dims= 2 and 4 respectively. The number of features is to be passed as argument.\n",
    "Instead, these parameter values will be obtained automatically \n",
    "by delayed initialization. \n",
    "The code looks virtually identical \n",
    "(save for the lack of an explicit specification \n",
    "of the dimensionality of the features \n",
    "for the Batch Normalization layers)."
   ]
  },
  {
   "cell_type": "code",
   "execution_count": 0,
   "metadata": {
    "colab": {},
    "colab_type": "code",
    "id": "1PuNhCI-LUBh"
   },
   "outputs": [],
   "source": [
    "net = nn.Sequential(nn.Conv2d(1, 6, kernel_size=5),\n",
    "                    nn.BatchNorm2d(6),\n",
    "                    nn.Sigmoid(),\n",
    "                    nn.MaxPool2d(kernel_size=2, stride=2),\n",
    "                    nn.Conv2d(6, 16, kernel_size=5),\n",
    "                    nn.BatchNorm2d(16),\n",
    "                    nn.Sigmoid(),\n",
    "                    nn.MaxPool2d(kernel_size=2, stride=2),\n",
    "                    Flatten(),\n",
    "                    nn.Linear(256, 120),\n",
    "                    nn.BatchNorm1d(120),\n",
    "                    nn.Sigmoid(),\n",
    "                    nn.Linear(120, 84),\n",
    "                    nn.BatchNorm1d(84),\n",
    "                    nn.Sigmoid(),\n",
    "                    nn.Linear(84, 10))"
   ]
  },
  {
   "cell_type": "markdown",
   "metadata": {
    "colab_type": "text",
    "id": "BGp6jxU9LUBj"
   },
   "source": [
    "Use the same hyper-parameter to carry out the training. \n",
    "Note that as usual, the Pytorch variant runs much faster \n",
    "since its code has been compiled to C++/CUDA \n",
    "vs our custom implementation, \n",
    "which must be interpreted by Python."
   ]
  },
  {
   "cell_type": "code",
   "execution_count": 46,
   "metadata": {
    "colab": {
     "base_uri": "https://localhost:8080/",
     "height": 119
    },
    "colab_type": "code",
    "id": "tqlsks71LUBk",
    "outputId": "e5dbe489-b7c8-4923-ae41-43b345b933a5"
   },
   "outputs": [
    {
     "name": "stdout",
     "output_type": "stream",
     "text": [
      "training on cuda:0\n",
      "epoch 1, loss 0.0028, train acc 0.749, test acc 0.744, time 5.2 sec\n",
      "epoch 2, loss 0.0016, train acc 0.855, test acc 0.743, time 5.5 sec\n",
      "epoch 3, loss 0.0014, train acc 0.872, test acc 0.799, time 5.5 sec\n",
      "epoch 4, loss 0.0013, train acc 0.883, test acc 0.823, time 5.5 sec\n",
      "epoch 5, loss 0.0012, train acc 0.889, test acc 0.768, time 5.5 sec\n"
     ]
    }
   ],
   "source": [
    "lr, num_epochs, batch_size, device = 1, 5, 256, d2l.try_gpu()\n",
    "\n",
    "#Initialization of Weights\n",
    "def init_weights(m):\n",
    "    if type(m) == nn.Linear or type(m) == nn.Conv2d:\n",
    "        torch.nn.init.xavier_uniform_(m.weight)\n",
    "\n",
    "net.apply(init_weights)\n",
    "\n",
    "criterion = nn.CrossEntropyLoss()\n",
    "\n",
    "train_iter, test_iter = d2l.load_data_fashion_mnist(batch_size)\n",
    "\n",
    "d2l.train_ch5(net, train_iter, test_iter, criterion, num_epochs, batch_size, device, lr)"
   ]
  },
  {
   "cell_type": "markdown",
   "metadata": {
    "colab_type": "text",
    "id": "AAw2RE89LUBo"
   },
   "source": [
    "## Controversy\n",
    "\n",
    "Intuitively, batch normalization is thought to somehow\n",
    "make the optimization landscape smoother.\n",
    "However, we must be careful to distinguish between\n",
    "speculative intuitions and true explanations \n",
    "for the phenomena that we observe when training deep models.\n",
    "Recall that we do not even know why simpler \n",
    "deep neural networks (MLPs and conventional CNNs) generalize so well.\n",
    "Despite dropout and L2 regularization, \n",
    "they remain too flexible to admit \n",
    "conventional learning-theoretic generalization guarantees.\n",
    "\n",
    "In the original paper proposing batch normalization,\n",
    "the authors, in addition to introducing a powerful and useful tool\n",
    "offered an explanation for why it works:\n",
    "by reducing *internal covariate shift*.\n",
    "Presumably by *internal covariate shift* the authors\n",
    "meant something like the intuition expressed above---the \n",
    "notion that the distribution of activations changes \n",
    "over the course of training. \n",
    "However there were two problems with this explanation:\n",
    "(1) This drift is very different from *covariate shift*,\n",
    "rendering the name a misnomer.\n",
    "(2) The explanation remains ill-defined (and thus unproven)---rendering *why precisely this technique works* an open question.\n",
    "Throughout this book we aim to convey the intuitions that practitioners \n",
    "use to guide their development of deep neural networks.\n",
    "However, it's important to separate these guiding heuristics\n",
    "from established sceintific fact. \n",
    "Eventually, when you master this material \n",
    "and start writing your own research papers\n",
    "you will want to be clear to delineate \n",
    "between technical claims and hunches.\n",
    "\n",
    "Following the success of batch normalization, \n",
    "its explanation and via *internal covariate shift*\n",
    "became a hot topic that has been revisted several times\n",
    "both in the technical literature and in the broader discourse \n",
    "about how machine learning research ought to be presented.\n",
    "Ali Rahimi popularly raised this issue during a memorable \n",
    "speech while accepting a Test of Time Award at the NeurIPS conference in 2017\n",
    "and the issue was revisited in a recent position paper \n",
    "on troubling trends in machine learning \n",
    "([Lipton et al, 2018](https://arxiv.org/abs/1807.03341)). \n",
    "In the technical literature other authors \n",
    "([Santukar et al., 2018](https://arxiv.org/abs/1805.11604)) \n",
    "have proposed alternative explanations for the success of BN, \n",
    "some claiming that BN's success comes despite exhibiting behavior that is in some ways opposite to those claimed in the original paper. \n",
    "\n",
    "\n",
    "## Summary\n",
    "\n",
    "* During model training, batch normalization continuously adjusts the intermediate output of the neural network by utilizing the mean and standard deviation of the mini-batch, so that the values of the intermediate output in each layer throughout the neural network are more stable.\n",
    "* The batch normalization methods for fully connected layers and convolutional layers are slightly different.\n",
    "* Like a dropout layer, batch normalization layers have different computation results in training mode and prediction mode.\n",
    "* Batch Normalization has many beneficial side effects, primarily that of regularization. On the other hand, the original motivation of reducing covariate shift seems not to be a valid explanation.\n",
    "\n",
    "## Exercises\n",
    "\n",
    "1. Can we remove the fully connected affine transformation before the batch normalization or the bias parameter in convolution computation?\n",
    "    * Find an equivalent transformation that applies prior to the fully connected layer.\n",
    "    * Is this reformulation effective. Why (not)?\n",
    "1. Compare the learning rates for LeNet with and without batch normalization.\n",
    "    * Plot the decrease in training and test error.\n",
    "    * What about the region of convergence? How large can you make the learning rate?\n",
    "1. Do we need Batch Normalization in every layer? Experiment with it?\n",
    "1. Can you replace Dropout by Batch Normalization? How does the behavior change?\n",
    "1. Fix the coefficients `beta` and `gamma` (add the parameter `grad_req='null'` at the time of construction to avoid calculating the gradient), and observe and analyze the results.\n",
    "1. Review the Pytoch documentation for `_BatchNorm` to see the other applications for Batch Normalization.\n",
    "1. Research ideas - think of other normalization transforms that you can apply? Can you apply the probability integral transform? How about a full rank covariance estimate?\n",
    "\n",
    "\n",
    "## References\n",
    "\n",
    "[1] Ioffe, S., & Szegedy, C. (2015). Batch normalization: Accelerating deep network training by reducing internal covariate shift. arXiv preprint arXiv:1502.03167.\n"
   ]
  }
 ],
 "metadata": {
  "accelerator": "GPU",
  "colab": {
   "collapsed_sections": [],
   "name": "Copy of batch-norm.ipynb",
   "provenance": [],
   "toc_visible": true,
   "version": "0.3.2"
  },
  "kernelspec": {
   "display_name": "Python 3",
   "language": "python",
   "name": "python3"
  },
  "language_info": {
   "codemirror_mode": {
    "name": "ipython",
    "version": 3
   },
   "file_extension": ".py",
   "mimetype": "text/x-python",
   "name": "python",
   "nbconvert_exporter": "python",
   "pygments_lexer": "ipython3",
   "version": "3.6.5"
  }
 },
 "nbformat": 4,
 "nbformat_minor": 1
}
