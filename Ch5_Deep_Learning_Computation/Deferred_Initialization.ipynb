{
 "cells": [
  {
   "cell_type": "markdown",
   "metadata": {},
   "source": [
    "## Deferred Initialization"
   ]
  },
  {
   "cell_type": "markdown",
   "metadata": {},
   "source": [
    "There’s no way Pytorch(or any other framework for that matter) could predict what the input dimensionality of a network would be. Later on, when working with convolutional networks and images this problem will become even more pertinent, since the input dimensionality (i.e. the resolution ofan image) will affect the dimensionality of subsequent layers at a long range. Hence, the ability to set parameters without the need to know at the time of writing the code what the dimensionality is can greatly simplify statistical modeling. In what follows, we will discuss how this works using initialization as an example. After all, we cannot initialize variables that we don’t know exist."
   ]
  },
  {
   "cell_type": "markdown",
   "metadata": {},
   "source": [
    "## Instantiating a Network"
   ]
  },
  {
   "cell_type": "code",
   "execution_count": 2,
   "metadata": {},
   "outputs": [],
   "source": [
    "import torch\n",
    "import torch.nn as nn\n",
    "import numpy as nd\n",
    "def getnet(in_features,out_features):\n",
    "    net=nn.Sequential(\n",
    "    nn.Linear(in_features,256),\n",
    "    nn.ReLU(),\n",
    "    nn.Linear(256,out_features)\n",
    "    )\n",
    "    return net\n",
    "net=getnet(20,10)"
   ]
  },
  {
   "cell_type": "markdown",
   "metadata": {},
   "source": [
    "### In pytorch it is not possible to define a layer without mentioning the in_features for that layer"
   ]
  },
  {
   "cell_type": "code",
   "execution_count": 3,
   "metadata": {},
   "outputs": [
    {
     "name": "stdout",
     "output_type": "stream",
     "text": [
      "0.weight \t\t torch.Size([256, 20])\n",
      "0.bias \t\t torch.Size([256])\n",
      "2.weight \t\t torch.Size([10, 256])\n",
      "2.bias \t\t torch.Size([10])\n"
     ]
    }
   ],
   "source": [
    "for name,param in net.named_parameters():\n",
    "    print(name,'\\t\\t',param.shape)"
   ]
  },
  {
   "cell_type": "markdown",
   "metadata": {},
   "source": [
    "Now it is possible to make a network learn the size from a input data by making a custom nn module using pytorch"
   ]
  },
  {
   "cell_type": "markdown",
   "metadata": {},
   "source": [
    " ## Deferred Initialization in Practice\n",
    "Now that we know how it works in theory, let’s see when the initialization is actually triggered. In order to do so, we mock\n",
    "up an initializer.The initializer **init_weights** when evoked it initializes the weight of the network.It also sets the weights of the neural network to a non zero value which helps as neural networks tend to get stuck in local minima, so it's a good idea to give them many different starting values. You can't do that if they all start at zero.\n"
   ]
  },
  {
   "cell_type": "code",
   "execution_count": 16,
   "metadata": {},
   "outputs": [
    {
     "name": "stdout",
     "output_type": "stream",
     "text": [
      "Init Linear\n",
      "Init ReLU\n",
      "Init Linear\n",
      "Init Sequential\n",
      "Parameter containing:\n",
      "tensor([[-0.0466,  0.0647,  0.2163,  ...,  0.0978,  0.1920, -0.0540],\n",
      "        [-0.1062,  0.1817, -0.0595,  ..., -0.1299,  0.0142, -0.1386],\n",
      "        [ 0.1698,  0.0321, -0.1018,  ..., -0.1713,  0.0010,  0.1861],\n",
      "        ...,\n",
      "        [-0.1661,  0.0226, -0.0038,  ...,  0.1891,  0.1786, -0.0330],\n",
      "        [-0.1302, -0.0338, -0.1963,  ..., -0.1408,  0.1567, -0.1617],\n",
      "        [ 0.1900,  0.0453,  0.1034,  ...,  0.0176,  0.2069,  0.0638]],\n",
      "       requires_grad=True)\n",
      "Parameter containing:\n",
      "tensor([[-0.0330, -0.0555,  0.0070,  ..., -0.0128, -0.0463,  0.0476],\n",
      "        [ 0.0429, -0.0208,  0.0578,  ..., -0.0459, -0.0164,  0.0171],\n",
      "        [ 0.0593,  0.0171, -0.0435,  ...,  0.0578, -0.0053,  0.0499],\n",
      "        ...,\n",
      "        [ 0.0112, -0.0114,  0.0338,  ...,  0.0055, -0.0406, -0.0320],\n",
      "        [ 0.0511,  0.0041,  0.0606,  ...,  0.0600,  0.0384,  0.0513],\n",
      "        [ 0.0591, -0.0084, -0.0215,  ...,  0.0515, -0.0211,  0.0217]],\n",
      "       requires_grad=True)\n"
     ]
    }
   ],
   "source": [
    "def init_weights(m):\n",
    "    print(\"Init\",m.__class__.__name__)\n",
    "    m\n",
    "        \n",
    "\n",
    "net.apply(init_weights)\n",
    "print(net[0].weight)\n",
    "print(net[2].weight)"
   ]
  },
  {
   "cell_type": "code",
   "execution_count": 17,
   "metadata": {},
   "outputs": [
    {
     "name": "stdout",
     "output_type": "stream",
     "text": [
      "0.weight \t\t torch.Size([256, 20])\n",
      "0.bias \t\t torch.Size([256])\n",
      "2.weight \t\t torch.Size([10, 256])\n",
      "2.bias \t\t torch.Size([10])\n"
     ]
    }
   ],
   "source": [
    "x=torch.rand((2,20))\n",
    "y=net(x) # Forward computation\n",
    "for name,param in net.named_parameters():\n",
    "    print(name,'\\t\\t',param.shape)"
   ]
  },
  {
   "cell_type": "markdown",
   "metadata": {},
   "source": [
    "The main difference to before is that as soon as we knew the input dimensionality, x is R 20 it was possible to define the\n",
    "weight matrix for the first layer, i.e. W1 is R 256 * 20. With that out of the way, we can progress to the second layer, define\n",
    "its dimensionality to be 10 * 256 and so on through the computational graph and bind all the dimensions as they become\n",
    "available. Once this is known, we can proceed by initializing parameters."
   ]
  },
  {
   "cell_type": "markdown",
   "metadata": {},
   "source": [
    "As mentioned at the beginning of this section, deferred initialization can also cause confusion. Before the first forward\n",
    "calculation, we were unable to directly manipulate the model parameters, for example, we could not use the data and\n",
    "set_data functions to get and modify the parameters. Therefore, we often force initialization by sending a sample\n",
    "observation through the network."
   ]
  },
  {
   "cell_type": "markdown",
   "metadata": {},
   "source": [
    "## Forced Initialization"
   ]
  },
  {
   "cell_type": "markdown",
   "metadata": {},
   "source": [
    "Deferred initialization does not occur if the system knows the shape of all parameters when calling the initialize\n",
    "function. This can occur in two cases:\n",
    "1. We’ve already seen some data and we just want to reset the parameters.\n",
    "2. We specified all input and output dimensions of the network when defining it.\n"
   ]
  },
  {
   "cell_type": "markdown",
   "metadata": {},
   "source": [
    "The first case works just fine, as illustrated below.\n",
    "\n",
    "once we see some data and define the parameters and after that we initialize those parameters again using **init_weights** function"
   ]
  },
  {
   "cell_type": "code",
   "execution_count": 18,
   "metadata": {},
   "outputs": [],
   "source": [
    "net1=nn.Sequential()\n",
    "net1.add_module(\"Linear1\",nn.Linear(20,256))\n",
    "net1.add_module(\"Linear2\",nn.Linear(256,10))\n"
   ]
  },
  {
   "cell_type": "code",
   "execution_count": 19,
   "metadata": {},
   "outputs": [],
   "source": [
    "def init_weights_forced(m):\n",
    "    if type(m) == nn.Linear:\n",
    "        torch.nn.init.xavier_uniform(m.weight)"
   ]
  },
  {
   "cell_type": "markdown",
   "metadata": {},
   "source": [
    "In second case we specify the remaining set of parameters when initializing the network"
   ]
  },
  {
   "cell_type": "code",
   "execution_count": 20,
   "metadata": {},
   "outputs": [
    {
     "name": "stdout",
     "output_type": "stream",
     "text": [
      "Linear1.weight \t\t torch.Size([256, 20])\n",
      "Linear1.bias \t\t torch.Size([256])\n",
      "Linear2.weight \t\t torch.Size([10, 256])\n",
      "Linear2.bias \t\t torch.Size([10])\n"
     ]
    },
    {
     "name": "stderr",
     "output_type": "stream",
     "text": [
      "/home/internbmilap559/anaconda3/envs/pytorch/lib/python3.6/site-packages/ipykernel_launcher.py:3: UserWarning: nn.init.xavier_uniform is now deprecated in favor of nn.init.xavier_uniform_.\n",
      "  This is separate from the ipykernel package so we can avoid doing imports until\n"
     ]
    }
   ],
   "source": [
    "net1.apply(init_weights_forced)\n",
    "for name,param in net1.named_parameters():\n",
    "    print(name,'\\t\\t',param.shape)"
   ]
  },
  {
   "cell_type": "markdown",
   "metadata": {},
   "source": [
    "In the above case we have the data before hand and now we use that datato allow the model itself the way it wants to set the  in_features and the parameters."
   ]
  },
  {
   "cell_type": "markdown",
   "metadata": {},
   "source": [
    "The second case requires us to specify the remaining set of parameters when creating the layer. For instance, for dense\n",
    "layers we also need to specify the in_features so that initialization can occur immediately once  called."
   ]
  },
  {
   "cell_type": "markdown",
   "metadata": {},
   "source": [
    "## Summary"
   ]
  },
  {
   "cell_type": "markdown",
   "metadata": {},
   "source": [
    "1.  Pytorch doesnot provide a inbuilt feature for deferred initialization.\n",
    "2.  Deferred initialization is a good thing. It allows  to set many things automagically and it removes a great\n",
    "    source of errors from defining novel network architectures.\n",
    "3.  We can override this by specifying all implicitly defined variables.\n"
   ]
  },
  {
   "cell_type": "markdown",
   "metadata": {},
   "source": [
    "## Exercises"
   ]
  },
  {
   "cell_type": "markdown",
   "metadata": {},
   "source": [
    "1. What happens if you specify only parts of the input dimensions. Do you still get immediate initialization?\n",
    "2. What happens if you specify mismatching dimensions?\n",
    "3. What would you need to do if you have input of varying dimensionality? Hint - look at parameter tying."
   ]
  }
 ],
 "metadata": {
  "kernelspec": {
   "display_name": "Python 3",
   "language": "python",
   "name": "python3"
  },
  "language_info": {
   "codemirror_mode": {
    "name": "ipython",
    "version": 3
   },
   "file_extension": ".py",
   "mimetype": "text/x-python",
   "name": "python",
   "nbconvert_exporter": "python",
   "pygments_lexer": "ipython3",
   "version": "3.6.8"
  }
 },
 "nbformat": 4,
 "nbformat_minor": 2
}
